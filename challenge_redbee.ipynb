{
 "cells": [
  {
   "cell_type": "code",
   "execution_count": null,
   "metadata": {
    "colab": {},
    "colab_type": "code",
    "id": "agEG1tTS9bBM"
   },
   "outputs": [],
   "source": [
    "import numpy as np\n",
    "import pandas as pd\n",
    "#import statsmodels.api as sm\n",
    "import databricks.koalas as ks\n",
    "import matplotlib.pyplot as plt\n",
    "import seaborn as sns\n",
    "sns.set()\n",
    "import time\n",
    "#import datetime\n"
   ]
  },
  {
   "cell_type": "code",
   "execution_count": null,
   "metadata": {},
   "outputs": [],
   "source": [
    "sc.stop()"
   ]
  },
  {
   "cell_type": "code",
   "execution_count": null,
   "metadata": {},
   "outputs": [],
   "source": [
    "# instalar java jdk ---> sudo apt-get install -y openjdk-8-jdk-headless \n",
    "import os       #importing os to set environment variable\n",
    "os.environ[\"JAVA_HOME\"] = \"/usr/lib/jvm/java-8-openjdk-amd64\"     #set environment variable"
   ]
  },
  {
   "cell_type": "markdown",
   "metadata": {
    "colab_type": "text",
    "id": "uPRQ2SWZQePi"
   },
   "source": [
    "### Cargo los parquet"
   ]
  },
  {
   "cell_type": "code",
   "execution_count": null,
   "metadata": {
    "colab": {},
    "colab_type": "code",
    "id": "Ln0wXJbq9bBR"
   },
   "outputs": [],
   "source": [
    "raw_data_act = ks.read_parquet('activityObf.parquet',columns=['user_id','pediodo'])\n",
    "#raw_data_sb = ks.read_parquet('sbObfmod5.parquet')\n",
    "\n",
    "## Mod 5\n",
    "#raw_data_act = pd.read_parquet('activityObfmod5.parquet')\n",
    "#raw_data_sb = pd.read_parquet('sbObfmod5.parquet')\n",
    "\n",
    "#raw_data_act = pd.read_parquet('activityObf.parquet')\n",
    "#raw_data_sb = pd.read_parquet('sbObf.parquet')"
   ]
  },
  {
   "cell_type": "markdown",
   "metadata": {
    "colab_type": "text",
    "id": "mY8WTEoTSzy_"
   },
   "source": [
    "### Funciones"
   ]
  },
  {
   "cell_type": "code",
   "execution_count": null,
   "metadata": {
    "colab": {},
    "colab_type": "code",
    "id": "K7_Fn7U-9bBw"
   },
   "outputs": [],
   "source": [
    "def hist_actividad(df, feature_name, year, histogram = True):\n",
    "    '''Si histogram == False, devuelve un dataframe con los períodos de actividad y user_id de determinado año'''\n",
    "    #aux = df[(df[feature_name] >= datetime.date(year,1,1)) & (df[feature_name] < datetime.date(year+1,1,1))]  \n",
    "    aux = df[(df[feature_name] >= '{}-1-1'.format(year) ) & (df[feature_name] < '{}-1-1'.format(year+1) )] \n",
    "    \n",
    "    if histogram == True:\n",
    "        plt.hist(aux[feature_name]);        \n",
    "        plt.title(year, fontsize = 20)\n",
    "    \n",
    "    else:\n",
    "        return aux\n",
    "\n",
    "def get_month_diff(a, b):\n",
    "      \n",
    "      return 12*(a.year - b.year) + (a.month - b.month)       \n",
    "      \n",
    "def se_fuga(df):\n",
    "    \n",
    "      if (df['user_id'] == df['next_user_id']) and ( get_month_diff(df['next_periodo'], df['periodo']) >= 4) :\n",
    "          return 1\n",
    "      #elif (df['user_id'] != df['next_user_id']) and ( get_month_diff(max_date, df['periodo']) >= 4) :\n",
    "      #    return 0\n",
    "      else:\n",
    "          return 0\n",
    "    \n",
    "def define_estados(df_aux):\n",
    "    \n",
    "      df2 = df_aux.copy()\n",
    "      \n",
    "      df2['next_user_id'] = np.array(df2['user_id'].shift(-1))\n",
    "      df2['next_periodo'] = np.array(df2['periodo'].shift(-1))\n",
    "      \n",
    "      return df2.apply(se_fuga, axis=1)\n",
    "    \n",
    "    "
   ]
  },
  {
   "cell_type": "markdown",
   "metadata": {
    "colab_type": "text",
    "id": "KTx5efoY9bBg"
   },
   "source": [
    "### Análisis de datos"
   ]
  },
  {
   "cell_type": "code",
   "execution_count": null,
   "metadata": {
    "scrolled": false
   },
   "outputs": [],
   "source": [
    "raw_data_act.at[1, 'user_id']"
   ]
  },
  {
   "cell_type": "code",
   "execution_count": null,
   "metadata": {
    "colab": {},
    "colab_type": "code",
    "id": "4DkP3Hf-9bBo"
   },
   "outputs": [],
   "source": [
    "df_act_sorted=raw_data_act.sort_values(by=['user_id','periodo']).reset_index(drop=True) # Ordeno el dataframe de Activity\n",
    "df_act_wo_duplicates = df_act_sorted.drop_duplicates(keep = 'last').reset_index(drop=True) # Saco las filas repetidas\n",
    "\n",
    "#max_date = df_act_wo_duplicates['periodo'].max() # Fecha más reciente registrada"
   ]
  },
  {
   "cell_type": "markdown",
   "metadata": {},
   "source": [
    "##### Número de usuarios:  470794"
   ]
  },
  {
   "cell_type": "code",
   "execution_count": null,
   "metadata": {
    "colab": {},
    "colab_type": "code",
    "id": "1RMV2vzW9bCU"
   },
   "outputs": [],
   "source": [
    "start_time = time.clock()\n",
    "\n",
    "states = define_estados(df_act_wo_duplicates);\n",
    "print((time.clock() - start_time)/60, \"minutos\")"
   ]
  },
  {
   "cell_type": "code",
   "execution_count": null,
   "metadata": {},
   "outputs": [],
   "source": [
    "df_act_wo_duplicates[ (df_act_wo_duplicates['Estado']==1) & (df_act_wo_duplicates['user_id'] == df_act_wo_duplicates['user_id'].shift(-1)) ]"
   ]
  },
  {
   "cell_type": "code",
   "execution_count": null,
   "metadata": {
    "colab": {},
    "colab_type": "code",
    "id": "liYeOnNKbhKN"
   },
   "outputs": [],
   "source": [
    "df_act_wo_duplicates['Estado'] = states\n",
    "df_act_wo_duplicates.to_csv(r'df_act_wo_duplicates.csv')\n"
   ]
  },
  {
   "cell_type": "code",
   "execution_count": null,
   "metadata": {
    "colab": {},
    "colab_type": "code",
    "id": "qNETppVcLUq3"
   },
   "outputs": [],
   "source": [
    "df_sb_sorted = raw_data_sb.sort_values(by=['user_id','periodo']).reset_index(drop=True) # Ordeno el dataframe sb\n",
    "df_sb_wo_duplicates = df_sb_sorted.drop_duplicates(keep = 'last').reset_index(drop=True) # Quito filas duplicadas\n"
   ]
  },
  {
   "cell_type": "code",
   "execution_count": null,
   "metadata": {},
   "outputs": [],
   "source": [
    "df_sb_wo_duplicates.to_csv(r'df_sb_wo_duplicates.csv')"
   ]
  },
  {
   "cell_type": "markdown",
   "metadata": {},
   "source": [
    "### CARGAR DATOS act Y sb SIN DUPLICADOS Y ORDENADOS\n"
   ]
  },
  {
   "cell_type": "code",
   "execution_count": null,
   "metadata": {
    "colab": {},
    "colab_type": "code",
    "id": "XTtIBaCucHLM"
   },
   "outputs": [],
   "source": [
    "## PANDAS\n",
    "df_sb_wo_duplicates = pd.read_csv('df_sb_wo_duplicates.csv')\n",
    "df_act_wo_duplicates  = pd.read_csv('df_act_wo_duplicates.csv')\n",
    "\n",
    "df_sb_wo_duplicates = df_sb_wo_duplicates.drop(columns=['Unnamed: 0'])\n",
    "df_act_wo_duplicates = df_act_wo_duplicates.drop(columns=['Unnamed: 0'])\n",
    "\n",
    "## KOALAS\n",
    "# df_sb_wo_duplicates = ks.read_csv('df_sb_wo_duplicates.csv')\n",
    "# df_act_wo_duplicates  = ks.read_csv('df_act_wo_duplicates.csv')\n",
    "\n",
    "# df_sb_wo_duplicates = df_sb_wo_duplicates.drop('Unnamed: 0')\n",
    "# df_act_wo_duplicates = df_act_wo_duplicates.drop('Unnamed: 0')\n"
   ]
  },
  {
   "cell_type": "code",
   "execution_count": null,
   "metadata": {
    "colab": {},
    "colab_type": "code",
    "id": "VOPIpqfRtFmf"
   },
   "outputs": [],
   "source": [
    "def cuenta_actividades(users):\n",
    "    ''' devuelve cuántos períodos de actividad hay por user_id, \n",
    "    y cuántas filas de datos hay para ese user en el otro data set. Haciendo un vistazo rápido, \n",
    "    se ve que si el número de actividades por usuario es mayor que su cantidad de datos demográficos, \n",
    "    entonces hay datos que faltan. '''\n",
    "    \n",
    "    Num_actividades = np.zeros(len(users))\n",
    "    Num_datos_demog = np.zeros(len(users))\n",
    "    \n",
    "    for i, userid in enumerate(users):\n",
    "\n",
    "      Num_actividades[i] = len(df_act_wo_duplicates[df_act_wo_duplicates['user_id']== userid])\n",
    "      Num_datos_demog[i] = len(df_sb_wo_duplicates[df_sb_wo_duplicates['user_id'] == userid])\n",
    "\n",
    "    \n",
    "    df_users = pd.DataFrame()\n",
    "    df_users['User_id'] = users\n",
    "    df_users['Cantidad_actividades'] = Num_actividades\n",
    "    df_users['Cantidad_filas_datos_demog'] = Num_datos_demog\n",
    "    \n",
    "    print(np.sum(df_users['Cantidad_filas_datos_demog']))\n",
    "    return df_users\n",
    "  \n",
    "\n",
    "def merge_act_sb(df_act, df_sb):\n",
    "  \n",
    "  index_sb = []; estado_act = [];\n",
    "   \n",
    "  for i in range(df_act.shape[0]):\n",
    "    \n",
    "      if len(df_sb[(df_sb['periodo'] == df_act['periodo'][i]) & (df_sb['user_id'] == df_act['user_id'][i]) ]) > 0:\n",
    "          \n",
    "          index_aux = df_sb[(df_sb['periodo'] == df_act['periodo'][i]) & (df_sb['user_id'] == df_act['user_id'][i])].index[0]\n",
    "          index_sb.append(index_aux)\n",
    "          estado_act.append(df_act['Estado'][i])\n",
    "  \n",
    "  df_sb_act = df_sb.iloc[index_sb]\n",
    "  df_sb_act['estado'] = estado_act\n",
    "  df_sb_act.reset_index(drop=True)\n",
    "  \n",
    "  return df_sb_act\n",
    "    \n",
    "\n",
    "def generar_target_activity(df_act, df_sb):\n",
    "    \n",
    "    ''' Genera una columna con los estados (activo=0, se fuga = 1) para la tabla con datos demog.'''\n",
    "    \n",
    "    len_sb = df_sb.shape[0]\n",
    "    estados = np.zeros(len_sb)\n",
    "    \n",
    "    df_act_fugados = df_act[df_act['Estado'] == 1]\n",
    "    \n",
    "    for i in range(df_act_fugados.shape[0]):\n",
    "        \n",
    "        if df_sb[ df_sb['user_id']==df_act_fugados['user_id'][i] & df_sb['periodo']==df_act_fugados['periodo'][i] ].shape[0] == 1:\n",
    "            \n",
    "            index_sb_fugado = df_sb[(df_sb['user_id'] == df_act_fugados['user_id'][i]) & (df_sb['periodo'] == df_act_fugados['periodo'][i])].index[0]           \n",
    "            estados[index_sb_fugado] = 1\n",
    "        \n",
    "        \n",
    "    return estados\n",
    "  \n",
    "    \n",
    "def chequea_existen_datos_demog(df_act, df_sb):\n",
    "    '''Chequeda para cada fila de la tabla de actividades, si tiene definido datos demog \n",
    "    (compara con la tabla de user_id,período,Estado)'''\n",
    "    user_id_aux = []\n",
    "    periodo_aux = []\n",
    "    \n",
    "    for j in range(df_act.shape[0]):\n",
    "        \n",
    "        if len(df_sb[(df_sb['user_id']==df_act['user_id'][j]) & \n",
    "                    (df_sb['periodo']==df_act['periodo'][j])]) == 0:\n",
    "            \n",
    "            user_id_aux.append(df_act['user_id'][j])\n",
    "            periodo_aux.append(df_act['periodo'][j])\n",
    "            \n",
    "    print(\"Existen {} pares de user_id y periodo sin datos demográficos definidos \\n\".format(len(user_id_aux)))\n",
    "     \n",
    "    \n",
    "    return user_id_aux, periodo_aux\n",
    "            \n",
    "                \n",
    "                "
   ]
  },
  {
   "cell_type": "code",
   "execution_count": null,
   "metadata": {},
   "outputs": [],
   "source": [
    "start_time = time.clock()\n",
    "\n",
    "user_id_noact, periodo_noact = chequea_existen_datos_demog(df_act_wo_duplicates.head(1000), df_sb_wo_duplicates.head(1000))\n",
    "\n",
    "print((time.clock() - start_time)/60, \"minutos.\")"
   ]
  },
  {
   "cell_type": "code",
   "execution_count": null,
   "metadata": {
    "scrolled": true
   },
   "outputs": [],
   "source": [
    "j = 10\n",
    "\n",
    "df_sb_wo_duplicates[(df_sb_wo_duplicates['user_id']==user_id_noact[j]) &\n",
    "                     (df_sb_wo_duplicates['periodo']==periodo_noact[j]) ] "
   ]
  },
  {
   "cell_type": "code",
   "execution_count": null,
   "metadata": {},
   "outputs": [],
   "source": [
    "df_act_wo_duplicates[(df_act_wo_duplicates['user_id']==user_id_noact[j]) &\n",
    "                     (df_act_wo_duplicates['periodo']==periodo_noact[j]) ] "
   ]
  },
  {
   "cell_type": "code",
   "execution_count": null,
   "metadata": {},
   "outputs": [],
   "source": [
    "estados = generar_target_activity(df_act_wo_duplicates, df_sb_wo_duplicates)\n",
    "\n",
    "sum(estados)\n"
   ]
  },
  {
   "cell_type": "code",
   "execution_count": null,
   "metadata": {
    "colab": {
     "base_uri": "https://localhost:8080/",
     "height": 1000
    },
    "colab_type": "code",
    "executionInfo": {
     "elapsed": 57347,
     "status": "ok",
     "timestamp": 1570658979358,
     "user": {
      "displayName": "Martin Dran",
      "photoUrl": "",
      "userId": "18127857722614879305"
     },
     "user_tz": 180
    },
    "id": "pjvt1sapPwWu",
    "outputId": "5e34ce55-f660-4b8b-e16c-b90b628d631a"
   },
   "outputs": [],
   "source": [
    "users_array = df_act_wo_duplicates['user_id'].unique()  # array con los id usuarios\n",
    "  \n",
    "cantidad_act_sb=cuenta_actividades(users_array)\n",
    "cantidad_act_sb.head(10)"
   ]
  },
  {
   "cell_type": "code",
   "execution_count": null,
   "metadata": {
    "colab": {},
    "colab_type": "code",
    "id": "ZZGSqj_3rNpt"
   },
   "outputs": [],
   "source": [
    "from pyspark import SparkContext, SparkConf\n",
    "\n",
    "if __name__ == \"__main__\":\n",
    "    conf = SparkConf().setAppName(\"primeNumbers\").setMaster(\"local[3]\")\n",
    "    sc = SparkContext(conf = conf)"
   ]
  },
  {
   "cell_type": "code",
   "execution_count": null,
   "metadata": {},
   "outputs": [],
   "source": [
    "lines = sc.textFile(\"prime_nums.text\")\n",
    "numbers = lines.flatMap(lambda line: line.split(\"\\t\"))\n",
    "validNumbers = numbers.filter(lambda number: number)\n",
    "intNumbers = validNumbers.map(lambda number: int(number))\n",
    "    \n",
    "print(\"Sum is: {}\".format(intNumbers.reduce(lambda x, y: x + y)))\n"
   ]
  },
  {
   "cell_type": "markdown",
   "metadata": {
    "colab_type": "text",
    "id": "9zrzaE5Isk1_"
   },
   "source": [
    "# Resources\n",
    "##Apache Spark\n",
    "Framework para procesamiento distribuido.\n",
    "doc: https://spark.apache.org/\n",
    "\n",
    "##Koalas\n",
    "\n",
    "Una libreria del estilo Pandas  que esa spark por atras para el manejo de datos.\n",
    "https://koalas.readthedocs.io/en/latest/\n",
    "\n",
    "## scikit-learn\n",
    "Una libreria para machine learning\n",
    "\n",
    "https://scikit-learn.org/stable/\n",
    "\n",
    "##cursos copados\n",
    "\n",
    "los cursos estos son de gran ayuda en general, **no es para que los veas ahora**, son lindos recursos para meterse de lleno en el mundo del data scientist dev.\n",
    "\n",
    "###ML\n",
    "\n",
    "https://www.coursera.org/courses?query=machine+learning+andrew+ng\n",
    "\n",
    "https://www.coursera.org/specializations/deep-learning\n",
    "\n",
    "https://www.udemy.com/machinelearning-es/\n",
    "\n",
    "###DS\n",
    "\n",
    "https://www.coursera.org/specializations/data-science-python\n",
    "\n",
    "###Scala\n",
    "\n",
    "https://www.coursera.org/specializations/scala\n",
    "\n",
    "https://www.udemy.com/the-ultimate-hands-on-hadoop-tame-your-big-data/\n",
    "\n",
    "\n",
    "\n",
    "\n",
    "Libros hay millones si queres despues te paso un repo donde tengo una cantidad infernal, dependiendo el tema.\n",
    "\n",
    "\n",
    "\n"
   ]
  }
 ],
 "metadata": {
  "accelerator": "GPU",
  "colab": {
   "collapsed_sections": [],
   "machine_shape": "hm",
   "name": "challenge_redbee.ipynb",
   "provenance": [],
   "toc_visible": true
  },
  "kernelspec": {
   "display_name": "Python 3",
   "language": "python",
   "name": "python3"
  },
  "language_info": {
   "codemirror_mode": {
    "name": "ipython",
    "version": 3
   },
   "file_extension": ".py",
   "mimetype": "text/x-python",
   "name": "python",
   "nbconvert_exporter": "python",
   "pygments_lexer": "ipython3",
   "version": "3.7.3"
  }
 },
 "nbformat": 4,
 "nbformat_minor": 1
}
