{
 "cells": [
  {
   "cell_type": "code",
   "execution_count": 1,
   "metadata": {
    "colab": {},
    "colab_type": "code",
    "id": "agEG1tTS9bBM"
   },
   "outputs": [],
   "source": [
    "import numpy as np\n",
    "import pandas as pd\n",
    "#import statsmodels.api as sm\n",
    "import databricks.koalas as ks\n",
    "import matplotlib.pyplot as plt\n",
    "import seaborn as sns\n",
    "sns.set()\n",
    "import time\n",
    "#import datetime\n"
   ]
  },
  {
   "cell_type": "code",
   "execution_count": 6,
   "metadata": {},
   "outputs": [],
   "source": [
    "# instalar java jdk ---> sudo apt-get install -y openjdk-8-jdk-headless \n",
    "import os       #importing os to set environment variable\n",
    "os.environ[\"JAVA_HOME\"] = \"/usr/lib/jvm/java-8-openjdk-amd64\"     #set environment variable"
   ]
  },
  {
   "cell_type": "markdown",
   "metadata": {
    "colab_type": "text",
    "id": "uPRQ2SWZQePi"
   },
   "source": [
    "### Cargo los parquet"
   ]
  },
  {
   "cell_type": "code",
   "execution_count": 3,
   "metadata": {
    "colab": {},
    "colab_type": "code",
    "id": "Ln0wXJbq9bBR"
   },
   "outputs": [],
   "source": [
    "#raw_data_act = ks.read_parquet('activityObfmod5.parquet',columns=['user_id','pediodo'])\n",
    "#raw_data_sb = ks.read_parquet('sbObfmod5.parquet')\n",
    "\n",
    "## Mod 5\n",
    "raw_data_act = pd.read_parquet('activityObfmod5.parquet')\n",
    "raw_data_sb = pd.read_parquet('sbObfmod5.parquet')\n",
    "\n",
    "#raw_data_act = pd.read_parquet('activityObf.parquet')\n",
    "#raw_data_sb = pd.read_parquet('sbObf.parquet')"
   ]
  },
  {
   "cell_type": "markdown",
   "metadata": {
    "colab_type": "text",
    "id": "mY8WTEoTSzy_"
   },
   "source": [
    "### Funciones"
   ]
  },
  {
   "cell_type": "code",
   "execution_count": 2,
   "metadata": {
    "colab": {},
    "colab_type": "code",
    "id": "K7_Fn7U-9bBw"
   },
   "outputs": [],
   "source": [
    "def hist_actividad(df, feature_name, year, histogram = True):\n",
    "    '''Si histogram == False, devuelve un dataframe con los períodos de actividad y user_id de determinado año'''\n",
    "    #aux = df[(df[feature_name] >= datetime.date(year,1,1)) & (df[feature_name] < datetime.date(year+1,1,1))]  \n",
    "    aux = df[(df[feature_name] >= '{}-1-1'.format(year) ) & (df[feature_name] < '{}-1-1'.format(year+1) )] \n",
    "    \n",
    "    if histogram == True:\n",
    "        plt.hist(aux[feature_name]);        \n",
    "        plt.title(year, fontsize = 20)\n",
    "    \n",
    "    else:\n",
    "        return aux\n",
    "\n",
    "def get_month_diff(a, b):\n",
    "      \n",
    "      return 12*(a.year - b.year) + (a.month - b.month)       \n",
    "      \n",
    "def se_fuga(df):\n",
    "    \n",
    "      if (df['user_id'] == df['next_user_id']) and ( get_month_diff(df['next_periodo'], df['periodo']) >= 4) :\n",
    "          return 1\n",
    "      #elif (df['user_id'] != df['next_user_id']) and ( get_month_diff(max_date, df['periodo']) >= 4) :\n",
    "      #    return 0\n",
    "      else:\n",
    "          return 0\n",
    "    \n",
    "def define_estados(df_aux):\n",
    "    \n",
    "      df2 = df_aux.copy()\n",
    "      \n",
    "      df2['next_user_id'] = np.array(df2['user_id'].shift(-1))\n",
    "      df2['next_periodo'] = np.array(df2['periodo'].shift(-1))\n",
    "      \n",
    "      return df2.apply(se_fuga, axis=1)\n",
    "    \n",
    "    "
   ]
  },
  {
   "cell_type": "markdown",
   "metadata": {
    "colab_type": "text",
    "id": "KTx5efoY9bBg"
   },
   "source": [
    "### Análisis de datos"
   ]
  },
  {
   "cell_type": "code",
   "execution_count": 6,
   "metadata": {
    "colab": {},
    "colab_type": "code",
    "collapsed": true,
    "id": "4DkP3Hf-9bBo"
   },
   "outputs": [
    {
     "ename": "MemoryError",
     "evalue": "",
     "output_type": "error",
     "traceback": [
      "\u001b[0;31m---------------------------------------------------------------------------\u001b[0m",
      "\u001b[0;31mMemoryError\u001b[0m                               Traceback (most recent call last)",
      "\u001b[0;32m<ipython-input-6-353e2d06ff82>\u001b[0m in \u001b[0;36m<module>\u001b[0;34m\u001b[0m\n\u001b[1;32m      1\u001b[0m \u001b[0;31m#df_act_sorted=raw_data_act.sort_values(by=['user_id','periodo']).reset_index(drop=True) # Ordeno el dataframe de Activity\u001b[0m\u001b[0;34m\u001b[0m\u001b[0;34m\u001b[0m\u001b[0;34m\u001b[0m\u001b[0m\n\u001b[0;32m----> 2\u001b[0;31m \u001b[0mdf_act_wo_duplicates\u001b[0m \u001b[0;34m=\u001b[0m \u001b[0mraw_data_act\u001b[0m\u001b[0;34m.\u001b[0m\u001b[0msort_values\u001b[0m\u001b[0;34m(\u001b[0m\u001b[0mby\u001b[0m\u001b[0;34m=\u001b[0m\u001b[0;34m[\u001b[0m\u001b[0;34m'user_id'\u001b[0m\u001b[0;34m,\u001b[0m\u001b[0;34m'periodo'\u001b[0m\u001b[0;34m]\u001b[0m\u001b[0;34m)\u001b[0m\u001b[0;34m.\u001b[0m\u001b[0mreset_index\u001b[0m\u001b[0;34m(\u001b[0m\u001b[0mdrop\u001b[0m\u001b[0;34m=\u001b[0m\u001b[0;32mTrue\u001b[0m\u001b[0;34m)\u001b[0m\u001b[0;34m.\u001b[0m\u001b[0mdrop_duplicates\u001b[0m\u001b[0;34m(\u001b[0m\u001b[0mkeep\u001b[0m \u001b[0;34m=\u001b[0m \u001b[0;34m'last'\u001b[0m\u001b[0;34m)\u001b[0m\u001b[0;34m.\u001b[0m\u001b[0mreset_index\u001b[0m\u001b[0;34m(\u001b[0m\u001b[0mdrop\u001b[0m\u001b[0;34m=\u001b[0m\u001b[0;32mTrue\u001b[0m\u001b[0;34m)\u001b[0m\u001b[0;31m#df_act_sorted.drop_duplicates(keep = 'last').reset_index(drop=True) # Saco las filas repetidas\u001b[0m\u001b[0;34m\u001b[0m\u001b[0;34m\u001b[0m\u001b[0m\n\u001b[0m\u001b[1;32m      3\u001b[0m \u001b[0;34m\u001b[0m\u001b[0m\n\u001b[1;32m      4\u001b[0m \u001b[0;31m#max_date = df_act_wo_duplicates['periodo'].max() # Fecha más reciente registrada\u001b[0m\u001b[0;34m\u001b[0m\u001b[0;34m\u001b[0m\u001b[0;34m\u001b[0m\u001b[0m\n",
      "\u001b[0;32m~/anaconda3/lib/python3.7/site-packages/pandas/core/frame.py\u001b[0m in \u001b[0;36msort_values\u001b[0;34m(self, by, axis, ascending, inplace, kind, na_position)\u001b[0m\n\u001b[1;32m   4711\u001b[0m                     for x in by]\n\u001b[1;32m   4712\u001b[0m             indexer = lexsort_indexer(keys, orders=ascending,\n\u001b[0;32m-> 4713\u001b[0;31m                                       na_position=na_position)\n\u001b[0m\u001b[1;32m   4714\u001b[0m             \u001b[0mindexer\u001b[0m \u001b[0;34m=\u001b[0m \u001b[0mensure_platform_int\u001b[0m\u001b[0;34m(\u001b[0m\u001b[0mindexer\u001b[0m\u001b[0;34m)\u001b[0m\u001b[0;34m\u001b[0m\u001b[0;34m\u001b[0m\u001b[0m\n\u001b[1;32m   4715\u001b[0m         \u001b[0;32melse\u001b[0m\u001b[0;34m:\u001b[0m\u001b[0;34m\u001b[0m\u001b[0;34m\u001b[0m\u001b[0m\n",
      "\u001b[0;32m~/anaconda3/lib/python3.7/site-packages/pandas/core/sorting.py\u001b[0m in \u001b[0;36mlexsort_indexer\u001b[0;34m(keys, orders, na_position)\u001b[0m\n\u001b[1;32m    230\u001b[0m         \u001b[0mlabels\u001b[0m\u001b[0;34m.\u001b[0m\u001b[0mappend\u001b[0m\u001b[0;34m(\u001b[0m\u001b[0mcodes\u001b[0m\u001b[0;34m)\u001b[0m\u001b[0;34m\u001b[0m\u001b[0;34m\u001b[0m\u001b[0m\n\u001b[1;32m    231\u001b[0m \u001b[0;34m\u001b[0m\u001b[0m\n\u001b[0;32m--> 232\u001b[0;31m     \u001b[0;32mreturn\u001b[0m \u001b[0mindexer_from_factorized\u001b[0m\u001b[0;34m(\u001b[0m\u001b[0mlabels\u001b[0m\u001b[0;34m,\u001b[0m \u001b[0mshape\u001b[0m\u001b[0;34m)\u001b[0m\u001b[0;34m\u001b[0m\u001b[0;34m\u001b[0m\u001b[0m\n\u001b[0m\u001b[1;32m    233\u001b[0m \u001b[0;34m\u001b[0m\u001b[0m\n\u001b[1;32m    234\u001b[0m \u001b[0;34m\u001b[0m\u001b[0m\n",
      "\u001b[0;32m~/anaconda3/lib/python3.7/site-packages/pandas/core/sorting.py\u001b[0m in \u001b[0;36mindexer_from_factorized\u001b[0;34m(labels, shape, compress)\u001b[0m\n\u001b[1;32m    176\u001b[0m \u001b[0;34m\u001b[0m\u001b[0m\n\u001b[1;32m    177\u001b[0m \u001b[0;32mdef\u001b[0m \u001b[0mindexer_from_factorized\u001b[0m\u001b[0;34m(\u001b[0m\u001b[0mlabels\u001b[0m\u001b[0;34m,\u001b[0m \u001b[0mshape\u001b[0m\u001b[0;34m,\u001b[0m \u001b[0mcompress\u001b[0m\u001b[0;34m=\u001b[0m\u001b[0;32mTrue\u001b[0m\u001b[0;34m)\u001b[0m\u001b[0;34m:\u001b[0m\u001b[0;34m\u001b[0m\u001b[0;34m\u001b[0m\u001b[0m\n\u001b[0;32m--> 178\u001b[0;31m     \u001b[0mids\u001b[0m \u001b[0;34m=\u001b[0m \u001b[0mget_group_index\u001b[0m\u001b[0;34m(\u001b[0m\u001b[0mlabels\u001b[0m\u001b[0;34m,\u001b[0m \u001b[0mshape\u001b[0m\u001b[0;34m,\u001b[0m \u001b[0msort\u001b[0m\u001b[0;34m=\u001b[0m\u001b[0;32mTrue\u001b[0m\u001b[0;34m,\u001b[0m \u001b[0mxnull\u001b[0m\u001b[0;34m=\u001b[0m\u001b[0;32mFalse\u001b[0m\u001b[0;34m)\u001b[0m\u001b[0;34m\u001b[0m\u001b[0;34m\u001b[0m\u001b[0m\n\u001b[0m\u001b[1;32m    179\u001b[0m \u001b[0;34m\u001b[0m\u001b[0m\n\u001b[1;32m    180\u001b[0m     \u001b[0;32mif\u001b[0m \u001b[0;32mnot\u001b[0m \u001b[0mcompress\u001b[0m\u001b[0;34m:\u001b[0m\u001b[0;34m\u001b[0m\u001b[0;34m\u001b[0m\u001b[0m\n",
      "\u001b[0;32m~/anaconda3/lib/python3.7/site-packages/pandas/core/sorting.py\u001b[0m in \u001b[0;36mget_group_index\u001b[0;34m(labels, shape, sort, xnull)\u001b[0m\n\u001b[1;32m     80\u001b[0m             \u001b[0;32melse\u001b[0m\u001b[0;34m:\u001b[0m\u001b[0;34m\u001b[0m\u001b[0;34m\u001b[0m\u001b[0m\n\u001b[1;32m     81\u001b[0m                 \u001b[0mstride\u001b[0m \u001b[0;34m//=\u001b[0m \u001b[0mshape\u001b[0m\u001b[0;34m[\u001b[0m\u001b[0mi\u001b[0m\u001b[0;34m]\u001b[0m\u001b[0;34m\u001b[0m\u001b[0;34m\u001b[0m\u001b[0m\n\u001b[0;32m---> 82\u001b[0;31m             \u001b[0mout\u001b[0m \u001b[0;34m+=\u001b[0m \u001b[0mlabels\u001b[0m\u001b[0;34m[\u001b[0m\u001b[0mi\u001b[0m\u001b[0;34m]\u001b[0m \u001b[0;34m*\u001b[0m \u001b[0mstride\u001b[0m\u001b[0;34m\u001b[0m\u001b[0;34m\u001b[0m\u001b[0m\n\u001b[0m\u001b[1;32m     83\u001b[0m \u001b[0;34m\u001b[0m\u001b[0m\n\u001b[1;32m     84\u001b[0m         \u001b[0;32mif\u001b[0m \u001b[0mxnull\u001b[0m\u001b[0;34m:\u001b[0m  \u001b[0;31m# exclude nulls\u001b[0m\u001b[0;34m\u001b[0m\u001b[0;34m\u001b[0m\u001b[0m\n",
      "\u001b[0;31mMemoryError\u001b[0m: "
     ]
    }
   ],
   "source": [
    "df_act_sorted=raw_data_act.sort_values(by=['user_id','periodo']).reset_index(drop=True) # Ordeno el dataframe de Activity\n",
    "df_act_wo_duplicates = df_act_sorted.drop_duplicates(keep = 'last').reset_index(drop=True) # Saco las filas repetidas\n",
    "\n",
    "#max_date = df_act_wo_duplicates['periodo'].max() # Fecha más reciente registrada"
   ]
  },
  {
   "cell_type": "markdown",
   "metadata": {},
   "source": [
    "##### Número de usuarios:  470794"
   ]
  },
  {
   "cell_type": "code",
   "execution_count": 6,
   "metadata": {
    "colab": {},
    "colab_type": "code",
    "collapsed": true,
    "id": "1RMV2vzW9bCU"
   },
   "outputs": [
    {
     "name": "stderr",
     "output_type": "stream",
     "text": [
      "/home/dran/anaconda3/lib/python3.7/site-packages/ipykernel_launcher.py:3: DeprecationWarning: time.clock has been deprecated in Python 3.3 and will be removed from Python 3.8: use time.perf_counter or time.process_time instead\n",
      "  This is separate from the ipykernel package so we can avoid doing imports until\n"
     ]
    },
    {
     "name": "stdout",
     "output_type": "stream",
     "text": [
      "7.478314616666667 minutos\n"
     ]
    },
    {
     "name": "stderr",
     "output_type": "stream",
     "text": [
      "/home/dran/anaconda3/lib/python3.7/site-packages/ipykernel_launcher.py:7: DeprecationWarning: time.clock has been deprecated in Python 3.3 and will be removed from Python 3.8: use time.perf_counter or time.process_time instead\n",
      "  import sys\n"
     ]
    }
   ],
   "source": [
    "start_time = time.clock()\n",
    "\n",
    "states = define_estados(df_act_wo_duplicates);\n",
    "print((time.clock() - start_time)/60, \"minutos\")"
   ]
  },
  {
   "cell_type": "code",
   "execution_count": null,
   "metadata": {},
   "outputs": [],
   "source": [
    "df_act_wo_duplicates[(df_act_wo_duplicates['Estado']==1) & (df_act_wo_duplicates['user_id'] == df_act_wo_duplicates['user_id'].shift(-1)) ]"
   ]
  },
  {
   "cell_type": "code",
   "execution_count": 7,
   "metadata": {
    "colab": {},
    "colab_type": "code",
    "id": "liYeOnNKbhKN"
   },
   "outputs": [],
   "source": [
    "df_act_wo_duplicates['Estado'] = states\n",
    "df_act_wo_duplicates.to_csv(r'df_act_wo_duplicates.csv')\n"
   ]
  },
  {
   "cell_type": "code",
   "execution_count": 4,
   "metadata": {
    "colab": {},
    "colab_type": "code",
    "id": "qNETppVcLUq3"
   },
   "outputs": [],
   "source": [
    "df_sb_sorted = raw_data_sb.sort_values(by=['user_id','periodo']).reset_index(drop=True) # Ordeno el dataframe sb\n",
    "df_sb_wo_duplicates = df_sb_sorted.drop_duplicates(keep = 'last').reset_index(drop=True) # Quito filas duplicadas\n"
   ]
  },
  {
   "cell_type": "code",
   "execution_count": 5,
   "metadata": {},
   "outputs": [],
   "source": [
    "df_sb_wo_duplicates.to_csv(r'df_sb_wo_duplicates.csv')"
   ]
  },
  {
   "cell_type": "markdown",
   "metadata": {},
   "source": [
    "### CARGAR DATOS act Y sb SIN DUPLICADOS Y ORDENADOS\n"
   ]
  },
  {
   "cell_type": "code",
   "execution_count": 3,
   "metadata": {
    "colab": {},
    "colab_type": "code",
    "id": "XTtIBaCucHLM"
   },
   "outputs": [],
   "source": [
    "## PANDAS\n",
    "df_sb_wo_duplicates = pd.read_csv('df_sb_wo_duplicates.csv')\n",
    "df_act_wo_duplicates  = pd.read_csv('df_act_wo_duplicates.csv')\n",
    "\n",
    "df_sb_wo_duplicates = df_sb_wo_duplicates.drop(columns=['Unnamed: 0'])\n",
    "df_act_wo_duplicates = df_act_wo_duplicates.drop(columns=['Unnamed: 0'])\n",
    "\n",
    "## KOALAS\n",
    "# df_sb_wo_duplicates = ks.read_csv('df_sb_wo_duplicates.csv')\n",
    "# df_act_wo_duplicates  = ks.read_csv('df_act_wo_duplicates.csv')\n",
    "\n",
    "# df_sb_wo_duplicates = df_sb_wo_duplicates.drop('Unnamed: 0')\n",
    "# df_act_wo_duplicates = df_act_wo_duplicates.drop('Unnamed: 0')\n"
   ]
  },
  {
   "cell_type": "code",
   "execution_count": 9,
   "metadata": {
    "colab": {},
    "colab_type": "code",
    "id": "VOPIpqfRtFmf"
   },
   "outputs": [],
   "source": [
    "def cuenta_actividades(users):\n",
    "    ''' devuelve cuántos períodos de actividad hay por user_id, \n",
    "    y cuántas filas de datos hay para ese user en el otro data set. Haciendo un vistazo rápido, \n",
    "    se ve que si el número de actividades por usuario es mayor que su cantidad de datos demográficos, \n",
    "    entonces hay datos que faltan. '''\n",
    "    \n",
    "    Num_actividades = np.zeros(len(users))\n",
    "    Num_datos_demog = np.zeros(len(users))\n",
    "    \n",
    "    for i, userid in enumerate(users):\n",
    "\n",
    "      Num_actividades[i] = len(df_act_wo_duplicates[df_act_wo_duplicates['user_id']== userid])\n",
    "      Num_datos_demog[i] = len(df_sb_wo_duplicates[df_sb_wo_duplicates['user_id'] == userid])\n",
    "\n",
    "    \n",
    "    df_users = pd.DataFrame()\n",
    "    df_users['User_id'] = users\n",
    "    df_users['Cantidad_actividades'] = Num_actividades\n",
    "    df_users['Cantidad_filas_datos_demog'] = Num_datos_demog\n",
    "    \n",
    "    print(np.sum(df_users['Cantidad_filas_datos_demog']))\n",
    "    return df_users\n",
    "  \n",
    "\n",
    "def merge_act_sb(df_act, df_sb):\n",
    "  \n",
    "  index_sb = []; estado_act = [];\n",
    "   \n",
    "  for i in range(df_act.shape[0]):\n",
    "    \n",
    "      if len(df_sb[(df_sb['periodo'] == df_act['periodo'][i]) & (df_sb['user_id'] == df_act['user_id'][i]) ]) > 0:\n",
    "          \n",
    "          index_aux = df_sb[(df_sb['periodo'] == df_act['periodo'][i]) & (df_sb['user_id'] == df_act['user_id'][i])].index[0]\n",
    "          index_sb.append(index_aux)\n",
    "          estado_act.append(df_act['Estado'][i])\n",
    "  \n",
    "  df_sb_act = df_sb.iloc[index_sb]\n",
    "  df_sb_act['estado'] = estado_act\n",
    "  df_sb_act.reset_index(drop=True)\n",
    "  \n",
    "  return df_sb_act\n",
    "    \n",
    "\n",
    "def generar_target_activity(df_act, df_sb):\n",
    "    \n",
    "    ''' Genera una columna con los estados (activo=0, se fuga = 1) para la tabla con datos demog.'''\n",
    "    \n",
    "    len_sb = df_sb.shape[0]\n",
    "    estados = np.zeros(len_sb)\n",
    "    \n",
    "    df_act_fugados = df_act[df_act['Estado'] == 1]\n",
    "    \n",
    "    for i in range(df_act_fugados.shape[0]):\n",
    "        \n",
    "        if df_sb[ df_sb['user_id']==df_act_fugados['user_id'][i] & df_sb['periodo']==df_act_fugados['periodo'][i] ].shape[0] == 1:\n",
    "            \n",
    "            index_sb_fugado = df_sb[(df_sb['user_id'] == df_act_fugados['user_id'][i]) & (df_sb['periodo'] == df_act_fugados['periodo'][i])].index[0]           \n",
    "            estados[index_sb_fugado] = 1\n",
    "        \n",
    "        \n",
    "    return estados\n",
    "  \n",
    "    \n",
    "def chequea_existen_datos_demog(df_act, df_sb):\n",
    "    '''Chequeda para cada fila de la tabla de actividades, si tiene definido datos demog \n",
    "    (compara con la tabla de user_id,período,Estado)'''\n",
    "    user_id_aux = []\n",
    "    periodo_aux = []\n",
    "    \n",
    "    for j in range(df_act.shape[0]):\n",
    "        \n",
    "        if len(df_sb[(df_sb['user_id']==df_act['user_id'][j]) & \n",
    "                    (df_sb['periodo']==df_act['periodo'][j])]) == 0:\n",
    "            \n",
    "            user_id_aux.append(df_act['user_id'][j])\n",
    "            periodo_aux.append(df_act['periodo'][j])\n",
    "            \n",
    "    print(\"Existen {} pares de user_id y periodo sin datos demográficos definidos \\n\".format(len(user_id_aux)))\n",
    "     \n",
    "    \n",
    "    return user_id_aux, periodo_aux\n",
    "            \n",
    "                \n",
    "                "
   ]
  },
  {
   "cell_type": "code",
   "execution_count": 10,
   "metadata": {},
   "outputs": [
    {
     "name": "stderr",
     "output_type": "stream",
     "text": [
      "/home/dran/anaconda3/lib/python3.7/site-packages/ipykernel_launcher.py:1: DeprecationWarning: time.clock has been deprecated in Python 3.3 and will be removed from Python 3.8: use time.perf_counter or time.process_time instead\n",
      "  \"\"\"Entry point for launching an IPython kernel.\n"
     ]
    },
    {
     "name": "stdout",
     "output_type": "stream",
     "text": [
      "Existen 682 pares de user_id y periodo sin datos demográficos definidos \n",
      "\n",
      "0.01422629999999998 minutos.\n"
     ]
    },
    {
     "name": "stderr",
     "output_type": "stream",
     "text": [
      "/home/dran/anaconda3/lib/python3.7/site-packages/ipykernel_launcher.py:5: DeprecationWarning: time.clock has been deprecated in Python 3.3 and will be removed from Python 3.8: use time.perf_counter or time.process_time instead\n",
      "  \"\"\"\n"
     ]
    }
   ],
   "source": [
    "start_time = time.clock()\n",
    "\n",
    "user_id_noact, periodo_noact = chequea_existen_datos_demog(df_act_wo_duplicates.head(1000), df_sb_wo_duplicates.head(1000))\n",
    "\n",
    "print((time.clock() - start_time)/60, \"minutos.\")"
   ]
  },
  {
   "cell_type": "code",
   "execution_count": 7,
   "metadata": {
    "scrolled": true
   },
   "outputs": [
    {
     "data": {
      "text/html": [
       "<div>\n",
       "<style scoped>\n",
       "    .dataframe tbody tr th:only-of-type {\n",
       "        vertical-align: middle;\n",
       "    }\n",
       "\n",
       "    .dataframe tbody tr th {\n",
       "        vertical-align: top;\n",
       "    }\n",
       "\n",
       "    .dataframe thead th {\n",
       "        text-align: right;\n",
       "    }\n",
       "</style>\n",
       "<table border=\"1\" class=\"dataframe\">\n",
       "  <thead>\n",
       "    <tr style=\"text-align: right;\">\n",
       "      <th></th>\n",
       "      <th>fecha_proceso</th>\n",
       "      <th>R04PERREF</th>\n",
       "      <th>periodo</th>\n",
       "      <th>user_id</th>\n",
       "      <th>total_deudores_informados</th>\n",
       "      <th>deuda_vigente</th>\n",
       "      <th>deuda_directa_morosa90</th>\n",
       "      <th>deuda_directa_vencida</th>\n",
       "      <th>deuda_directa_mora180</th>\n",
       "      <th>deuda_indirecta_mora180</th>\n",
       "      <th>...</th>\n",
       "      <th>deuda_indirecta_vigente</th>\n",
       "      <th>deuda_indirecta_vencida</th>\n",
       "      <th>deuda_directa_comercial</th>\n",
       "      <th>deuda_directa_cred_consumo</th>\n",
       "      <th>deuda_directa_hipotecaria</th>\n",
       "      <th>deuda_directa_comercial_ext</th>\n",
       "      <th>deuda_indirecta_comercial_ext</th>\n",
       "      <th>deuda_directa_leasing</th>\n",
       "      <th>deuda_morosa_leasing</th>\n",
       "      <th>monto_lineas_cred_disp</th>\n",
       "    </tr>\n",
       "  </thead>\n",
       "  <tbody>\n",
       "  </tbody>\n",
       "</table>\n",
       "<p>0 rows × 22 columns</p>\n",
       "</div>"
      ],
      "text/plain": [
       "Empty DataFrame\n",
       "Columns: [fecha_proceso, R04PERREF, periodo, user_id, total_deudores_informados, deuda_vigente, deuda_directa_morosa90, deuda_directa_vencida, deuda_directa_mora180, deuda_indirecta_mora180, deuda_directa_inversiones_financieras, deuda_directa_ops_pacto, deuda_indirecta_vigente, deuda_indirecta_vencida, deuda_directa_comercial, deuda_directa_cred_consumo, deuda_directa_hipotecaria, deuda_directa_comercial_ext, deuda_indirecta_comercial_ext, deuda_directa_leasing, deuda_morosa_leasing, monto_lineas_cred_disp]\n",
       "Index: []\n",
       "\n",
       "[0 rows x 22 columns]"
      ]
     },
     "execution_count": 7,
     "metadata": {},
     "output_type": "execute_result"
    }
   ],
   "source": [
    "j = 10\n",
    "\n",
    "df_sb_wo_duplicates[(df_sb_wo_duplicates['user_id']==user_id_noact[j]) &\n",
    "                     (df_sb_wo_duplicates['periodo']==periodo_noact[j]) ] "
   ]
  },
  {
   "cell_type": "code",
   "execution_count": 8,
   "metadata": {},
   "outputs": [
    {
     "data": {
      "text/html": [
       "<div>\n",
       "<style scoped>\n",
       "    .dataframe tbody tr th:only-of-type {\n",
       "        vertical-align: middle;\n",
       "    }\n",
       "\n",
       "    .dataframe tbody tr th {\n",
       "        vertical-align: top;\n",
       "    }\n",
       "\n",
       "    .dataframe thead th {\n",
       "        text-align: right;\n",
       "    }\n",
       "</style>\n",
       "<table border=\"1\" class=\"dataframe\">\n",
       "  <thead>\n",
       "    <tr style=\"text-align: right;\">\n",
       "      <th></th>\n",
       "      <th>user_id</th>\n",
       "      <th>periodo</th>\n",
       "      <th>Estado</th>\n",
       "    </tr>\n",
       "  </thead>\n",
       "  <tbody>\n",
       "    <tr>\n",
       "      <th>23</th>\n",
       "      <td>100000586751768816</td>\n",
       "      <td>2017-01-01</td>\n",
       "      <td>0</td>\n",
       "    </tr>\n",
       "  </tbody>\n",
       "</table>\n",
       "</div>"
      ],
      "text/plain": [
       "               user_id     periodo  Estado\n",
       "23  100000586751768816  2017-01-01       0"
      ]
     },
     "execution_count": 8,
     "metadata": {},
     "output_type": "execute_result"
    }
   ],
   "source": [
    "df_act_wo_duplicates[(df_act_wo_duplicates['user_id']==user_id_noact[j]) &\n",
    "                     (df_act_wo_duplicates['periodo']==periodo_noact[j]) ] "
   ]
  },
  {
   "cell_type": "code",
   "execution_count": null,
   "metadata": {},
   "outputs": [],
   "source": [
    "estados = generar_target_activity(df_act_wo_duplicates, df_sb_wo_duplicates)\n",
    "\n",
    "sum(estados)\n"
   ]
  },
  {
   "cell_type": "code",
   "execution_count": 5,
   "metadata": {
    "colab": {
     "base_uri": "https://localhost:8080/",
     "height": 1000
    },
    "colab_type": "code",
    "executionInfo": {
     "elapsed": 57347,
     "status": "ok",
     "timestamp": 1570658979358,
     "user": {
      "displayName": "Martin Dran",
      "photoUrl": "",
      "userId": "18127857722614879305"
     },
     "user_tz": 180
    },
    "id": "pjvt1sapPwWu",
    "outputId": "5e34ce55-f660-4b8b-e16c-b90b628d631a"
   },
   "outputs": [
    {
     "ename": "KeyboardInterrupt",
     "evalue": "",
     "output_type": "error",
     "traceback": [
      "\u001b[0;31m---------------------------------------------------------------------------\u001b[0m",
      "\u001b[0;31mKeyboardInterrupt\u001b[0m                         Traceback (most recent call last)",
      "\u001b[0;32m<ipython-input-5-4d03599bf630>\u001b[0m in \u001b[0;36m<module>\u001b[0;34m\u001b[0m\n\u001b[1;32m      1\u001b[0m \u001b[0musers_array\u001b[0m \u001b[0;34m=\u001b[0m \u001b[0mdf_act_wo_duplicates\u001b[0m\u001b[0;34m[\u001b[0m\u001b[0;34m'user_id'\u001b[0m\u001b[0;34m]\u001b[0m\u001b[0;34m.\u001b[0m\u001b[0munique\u001b[0m\u001b[0;34m(\u001b[0m\u001b[0;34m)\u001b[0m  \u001b[0;31m# array con los id usuarios\u001b[0m\u001b[0;34m\u001b[0m\u001b[0;34m\u001b[0m\u001b[0m\n\u001b[1;32m      2\u001b[0m \u001b[0;34m\u001b[0m\u001b[0m\n\u001b[0;32m----> 3\u001b[0;31m \u001b[0mcantidad_act_sb\u001b[0m\u001b[0;34m=\u001b[0m\u001b[0mcuenta_actividades\u001b[0m\u001b[0;34m(\u001b[0m\u001b[0musers_array\u001b[0m\u001b[0;34m)\u001b[0m\u001b[0;34m\u001b[0m\u001b[0;34m\u001b[0m\u001b[0m\n\u001b[0m\u001b[1;32m      4\u001b[0m \u001b[0mcantidad_act_sb\u001b[0m\u001b[0;34m.\u001b[0m\u001b[0mhead\u001b[0m\u001b[0;34m(\u001b[0m\u001b[0;36m10\u001b[0m\u001b[0;34m)\u001b[0m\u001b[0;34m\u001b[0m\u001b[0;34m\u001b[0m\u001b[0m\n",
      "\u001b[0;32m<ipython-input-4-bc85aad00c78>\u001b[0m in \u001b[0;36mcuenta_actividades\u001b[0;34m(users)\u001b[0m\n\u001b[1;32m      6\u001b[0m     \u001b[0;32mfor\u001b[0m \u001b[0mi\u001b[0m\u001b[0;34m,\u001b[0m \u001b[0muserid\u001b[0m \u001b[0;32min\u001b[0m \u001b[0menumerate\u001b[0m\u001b[0;34m(\u001b[0m\u001b[0musers\u001b[0m\u001b[0;34m)\u001b[0m\u001b[0;34m:\u001b[0m\u001b[0;34m\u001b[0m\u001b[0;34m\u001b[0m\u001b[0m\n\u001b[1;32m      7\u001b[0m \u001b[0;34m\u001b[0m\u001b[0m\n\u001b[0;32m----> 8\u001b[0;31m       \u001b[0mNum_actividades\u001b[0m\u001b[0;34m[\u001b[0m\u001b[0mi\u001b[0m\u001b[0;34m]\u001b[0m \u001b[0;34m=\u001b[0m \u001b[0mlen\u001b[0m\u001b[0;34m(\u001b[0m\u001b[0mdf_act_wo_duplicates\u001b[0m\u001b[0;34m[\u001b[0m\u001b[0mdf_act_wo_duplicates\u001b[0m\u001b[0;34m[\u001b[0m\u001b[0;34m'user_id'\u001b[0m\u001b[0;34m]\u001b[0m\u001b[0;34m==\u001b[0m \u001b[0muserid\u001b[0m\u001b[0;34m]\u001b[0m\u001b[0;34m)\u001b[0m\u001b[0;34m\u001b[0m\u001b[0;34m\u001b[0m\u001b[0m\n\u001b[0m\u001b[1;32m      9\u001b[0m       \u001b[0mNum_datos_demog\u001b[0m\u001b[0;34m[\u001b[0m\u001b[0mi\u001b[0m\u001b[0;34m]\u001b[0m \u001b[0;34m=\u001b[0m \u001b[0mlen\u001b[0m\u001b[0;34m(\u001b[0m\u001b[0mdf_sb_wo_duplicates\u001b[0m\u001b[0;34m[\u001b[0m\u001b[0mdf_sb_wo_duplicates\u001b[0m\u001b[0;34m[\u001b[0m\u001b[0;34m'user_id'\u001b[0m\u001b[0;34m]\u001b[0m \u001b[0;34m==\u001b[0m \u001b[0muserid\u001b[0m\u001b[0;34m]\u001b[0m\u001b[0;34m)\u001b[0m\u001b[0;34m\u001b[0m\u001b[0;34m\u001b[0m\u001b[0m\n\u001b[1;32m     10\u001b[0m \u001b[0;34m\u001b[0m\u001b[0m\n",
      "\u001b[0;32m~/anaconda3/lib/python3.7/site-packages/pandas/core/ops.py\u001b[0m in \u001b[0;36mwrapper\u001b[0;34m(self, other, axis)\u001b[0m\n\u001b[1;32m   1764\u001b[0m \u001b[0;34m\u001b[0m\u001b[0m\n\u001b[1;32m   1765\u001b[0m             \u001b[0;32mwith\u001b[0m \u001b[0mnp\u001b[0m\u001b[0;34m.\u001b[0m\u001b[0merrstate\u001b[0m\u001b[0;34m(\u001b[0m\u001b[0mall\u001b[0m\u001b[0;34m=\u001b[0m\u001b[0;34m'ignore'\u001b[0m\u001b[0;34m)\u001b[0m\u001b[0;34m:\u001b[0m\u001b[0;34m\u001b[0m\u001b[0;34m\u001b[0m\u001b[0m\n\u001b[0;32m-> 1766\u001b[0;31m                 \u001b[0mres\u001b[0m \u001b[0;34m=\u001b[0m \u001b[0mna_op\u001b[0m\u001b[0;34m(\u001b[0m\u001b[0mvalues\u001b[0m\u001b[0;34m,\u001b[0m \u001b[0mother\u001b[0m\u001b[0;34m)\u001b[0m\u001b[0;34m\u001b[0m\u001b[0;34m\u001b[0m\u001b[0m\n\u001b[0m\u001b[1;32m   1767\u001b[0m             \u001b[0;32mif\u001b[0m \u001b[0mis_scalar\u001b[0m\u001b[0;34m(\u001b[0m\u001b[0mres\u001b[0m\u001b[0;34m)\u001b[0m\u001b[0;34m:\u001b[0m\u001b[0;34m\u001b[0m\u001b[0;34m\u001b[0m\u001b[0m\n\u001b[1;32m   1768\u001b[0m                 raise TypeError('Could not compare {typ} type with Series'\n",
      "\u001b[0;32m~/anaconda3/lib/python3.7/site-packages/pandas/core/ops.py\u001b[0m in \u001b[0;36mna_op\u001b[0;34m(x, y)\u001b[0m\n\u001b[1;32m   1647\u001b[0m             \u001b[0;32mif\u001b[0m \u001b[0mmethod\u001b[0m \u001b[0;32mis\u001b[0m \u001b[0;32mnot\u001b[0m \u001b[0;32mNone\u001b[0m\u001b[0;34m:\u001b[0m\u001b[0;34m\u001b[0m\u001b[0;34m\u001b[0m\u001b[0m\n\u001b[1;32m   1648\u001b[0m                 \u001b[0;32mwith\u001b[0m \u001b[0mnp\u001b[0m\u001b[0;34m.\u001b[0m\u001b[0merrstate\u001b[0m\u001b[0;34m(\u001b[0m\u001b[0mall\u001b[0m\u001b[0;34m=\u001b[0m\u001b[0;34m'ignore'\u001b[0m\u001b[0;34m)\u001b[0m\u001b[0;34m:\u001b[0m\u001b[0;34m\u001b[0m\u001b[0;34m\u001b[0m\u001b[0m\n\u001b[0;32m-> 1649\u001b[0;31m                     \u001b[0mresult\u001b[0m \u001b[0;34m=\u001b[0m \u001b[0mmethod\u001b[0m\u001b[0;34m(\u001b[0m\u001b[0my\u001b[0m\u001b[0;34m)\u001b[0m\u001b[0;34m\u001b[0m\u001b[0;34m\u001b[0m\u001b[0m\n\u001b[0m\u001b[1;32m   1650\u001b[0m                 \u001b[0;32mif\u001b[0m \u001b[0mresult\u001b[0m \u001b[0;32mis\u001b[0m \u001b[0mNotImplemented\u001b[0m\u001b[0;34m:\u001b[0m\u001b[0;34m\u001b[0m\u001b[0;34m\u001b[0m\u001b[0m\n\u001b[1;32m   1651\u001b[0m                     \u001b[0;32mreturn\u001b[0m \u001b[0minvalid_comparison\u001b[0m\u001b[0;34m(\u001b[0m\u001b[0mx\u001b[0m\u001b[0;34m,\u001b[0m \u001b[0my\u001b[0m\u001b[0;34m,\u001b[0m \u001b[0mop\u001b[0m\u001b[0;34m)\u001b[0m\u001b[0;34m\u001b[0m\u001b[0;34m\u001b[0m\u001b[0m\n",
      "\u001b[0;31mKeyboardInterrupt\u001b[0m: "
     ]
    }
   ],
   "source": [
    "users_array = df_act_wo_duplicates['user_id'].unique()  # array con los id usuarios\n",
    "  \n",
    "cantidad_act_sb=cuenta_actividades(users_array)\n",
    "cantidad_act_sb.head(10)"
   ]
  },
  {
   "cell_type": "code",
   "execution_count": 0,
   "metadata": {
    "colab": {},
    "colab_type": "code",
    "id": "ZZGSqj_3rNpt"
   },
   "outputs": [],
   "source": []
  },
  {
   "cell_type": "markdown",
   "metadata": {
    "colab_type": "text",
    "id": "9zrzaE5Isk1_"
   },
   "source": [
    "# Resources\n",
    "##Apache Spark\n",
    "Framework para procesamiento distribuido.\n",
    "doc: https://spark.apache.org/\n",
    "\n",
    "##Koalas\n",
    "\n",
    "Una libreria del estilo Pandas  que esa spark por atras para el manejo de datos.\n",
    "https://koalas.readthedocs.io/en/latest/\n",
    "\n",
    "## scikit-learn\n",
    "Una libreria para machine learning\n",
    "\n",
    "https://scikit-learn.org/stable/\n",
    "\n",
    "##cursos copados\n",
    "\n",
    "los cursos estos son de gran ayuda en general, **no es para que los veas ahora**, son lindos recursos para meterse de lleno en el mundo del data scientist dev.\n",
    "\n",
    "###ML\n",
    "\n",
    "https://www.coursera.org/courses?query=machine+learning+andrew+ng\n",
    "\n",
    "https://www.coursera.org/specializations/deep-learning\n",
    "\n",
    "https://www.udemy.com/machinelearning-es/\n",
    "\n",
    "###DS\n",
    "\n",
    "https://www.coursera.org/specializations/data-science-python\n",
    "\n",
    "###Scala\n",
    "\n",
    "https://www.coursera.org/specializations/scala\n",
    "\n",
    "https://www.udemy.com/the-ultimate-hands-on-hadoop-tame-your-big-data/\n",
    "\n",
    "\n",
    "\n",
    "\n",
    "Libros hay millones si queres despues te paso un repo donde tengo una cantidad infernal, dependiendo el tema.\n",
    "\n",
    "\n",
    "\n"
   ]
  }
 ],
 "metadata": {
  "accelerator": "GPU",
  "colab": {
   "collapsed_sections": [],
   "machine_shape": "hm",
   "name": "challenge_redbee.ipynb",
   "provenance": [],
   "toc_visible": true
  },
  "kernelspec": {
   "display_name": "Python 3",
   "language": "python",
   "name": "python3"
  },
  "language_info": {
   "codemirror_mode": {
    "name": "ipython",
    "version": 3
   },
   "file_extension": ".py",
   "mimetype": "text/x-python",
   "name": "python",
   "nbconvert_exporter": "python",
   "pygments_lexer": "ipython3",
   "version": "3.7.3"
  }
 },
 "nbformat": 4,
 "nbformat_minor": 1
}
