{
 "cells": [
  {
   "cell_type": "code",
   "execution_count": 1,
   "metadata": {},
   "outputs": [],
   "source": [
    "from pyspark.sql import SparkSession\n",
    "import pandas as pd\n",
    "import numpy as np\n",
    "from sklearn.model_selection import train_test_split\n",
    "import statsmodels.api as sm\n",
    "from sklearn.preprocessing import StandardScaler\n",
    "from pyspark.ml.feature import VectorAssembler\n",
    "\n",
    "from pyspark.ml.classification import (RandomForestClassifier, \n",
    "                                      DecisionTreeClassifier)\n"
   ]
  },
  {
   "cell_type": "code",
   "execution_count": 2,
   "metadata": {},
   "outputs": [],
   "source": [
    "spark = SparkSession.builder.appName(\"Feature_Selection_Logit\").getOrCreate()"
   ]
  },
  {
   "cell_type": "code",
   "execution_count": 16,
   "metadata": {},
   "outputs": [],
   "source": [
    "#df_feat_targ = spark.read.csv('dataFrame target and features(fuga).csv/', header = True, inferSchema = True)\n",
    "#df_feat_targ = spark.read.csv('dataFrame target and features(fuga 3 meses antes).csv/', header = True, inferSchema = True)\n",
    "df_feat_targ = spark.read.csv('dataFrame target and features(fuga 3 meses antes no-current).csv/', header = True, inferSchema = True)\n",
    "\n"
   ]
  },
  {
   "cell_type": "code",
   "execution_count": 133,
   "metadata": {},
   "outputs": [
    {
     "data": {
      "text/plain": [
       "6897273"
      ]
     },
     "execution_count": 133,
     "metadata": {},
     "output_type": "execute_result"
    }
   ],
   "source": [
    "df_feat_targ.count()"
   ]
  },
  {
   "cell_type": "markdown",
   "metadata": {},
   "source": [
    "### Feature Selection 1: "
   ]
  },
  {
   "cell_type": "code",
   "execution_count": 17,
   "metadata": {},
   "outputs": [],
   "source": [
    "N_fugas = df_feat_targ.filter(\"estado = 1\").count()"
   ]
  },
  {
   "cell_type": "code",
   "execution_count": 18,
   "metadata": {},
   "outputs": [
    {
     "data": {
      "text/plain": [
       "38146"
      ]
     },
     "execution_count": 18,
     "metadata": {},
     "output_type": "execute_result"
    }
   ],
   "source": [
    "N_fugas"
   ]
  },
  {
   "cell_type": "code",
   "execution_count": 6,
   "metadata": {},
   "outputs": [],
   "source": [
    "def FeatureSelection(df_spark, N_0, test_size, features_columns):\n",
    "\n",
    "        \n",
    "    df_fts_select1 = df_spark.filter(\"estado = 1\").union(df_spark.filter(\"estado = 0\").limit(N_0))\n",
    "    df_fts_targ_pd = df_fts_select1.toPandas()\n",
    "\n",
    "    train_data, test_data = train_test_split(df_fts_targ_pd, test_size = test_size, random_state = 1)\n",
    "\n",
    "    y_train  = train_data[['estado']]\n",
    "    y_test = test_data[['estado']]\n",
    "    x_train1 = train_data[features_columns]\n",
    "    x_test1 = test_data[features_columns]\n",
    "    \n",
    "    return x_train1, x_test1, y_train, y_test\n",
    "\n",
    "\n",
    "def FeatureSelectionPyspark(df_spark, N_0, test_size, features_columns):\n",
    "    \n",
    "    df_fts_select1 = df_spark.filter(\"estado = 1\").union(df_spark.filter(\"estado = 0\").limit(N_0))\n",
    "   \n",
    "    assembler = VectorAssembler(inputCols = features_columns, outputCol = 'features')  \n",
    "    output = assembler.transform(df_fts_select1)\n",
    "    \n",
    "    final_df = output.select('features','estado')\n",
    "    \n",
    "    train_data, test_data = final_df.randomSplit([1-test_size, test_size])\n",
    "\n",
    "    return train_data, test_data"
   ]
  },
  {
   "cell_type": "markdown",
   "metadata": {},
   "source": [
    "#### Quité las columnas \"deuda_directa_inversiones_financieras\", \"deuda_directa_ops_pacto\" y \"deuda_indirecta_comercial_ext\" porque tienen sólo valores nulos."
   ]
  },
  {
   "cell_type": "markdown",
   "metadata": {},
   "source": [
    "### Regresion Logística"
   ]
  },
  {
   "cell_type": "code",
   "execution_count": 7,
   "metadata": {},
   "outputs": [],
   "source": [
    "def RegresionLogistica(x_train1, x_test1, y_train, y_test):\n",
    "    x_train = sm.add_constant(x_train1)\n",
    "    x_test = sm.add_constant(x_test1)\n",
    "\n",
    "    reg_log = sm.Logit(y_train,x_train)\n",
    "    results_log = reg_log.fit()\n",
    "    return results_log, x_test, y_test#.summary()"
   ]
  },
  {
   "cell_type": "markdown",
   "metadata": {},
   "source": [
    "### Decision Tree"
   ]
  },
  {
   "cell_type": "code",
   "execution_count": 8,
   "metadata": {},
   "outputs": [],
   "source": [
    "def DecisionTree(df_train):\n",
    "    \n",
    "    dtc = DecisionTreeClassifier(labelCol = 'estado')\n",
    "    dtc_model = dtc.fit(df_train)\n",
    "    return dtc_model"
   ]
  },
  {
   "cell_type": "markdown",
   "metadata": {},
   "source": [
    "### Random Forest"
   ]
  },
  {
   "cell_type": "code",
   "execution_count": 27,
   "metadata": {},
   "outputs": [],
   "source": [
    "def RandomForest(df_train, N_trees):\n",
    "    \n",
    "    rfc = RandomForestClassifier(labelCol = 'estado', numTrees = N_trees)\n",
    "    rfc_model = rfc.fit(df_train)\n",
    "    return rfc_model"
   ]
  },
  {
   "cell_type": "markdown",
   "metadata": {},
   "source": [
    "#### P-values: útiles para conocer qué variables tienen importancia estadística. Si p < 0.05, la variable es importante para el modelo."
   ]
  },
  {
   "cell_type": "markdown",
   "metadata": {},
   "source": [
    "### Matriz de Confusión"
   ]
  },
  {
   "cell_type": "code",
   "execution_count": 20,
   "metadata": {},
   "outputs": [],
   "source": [
    "def CuentaActualPred(data, actual_values, model, threshold = 0.5):\n",
    "    \n",
    "        \n",
    "        actual_values['predict'] = list(model.predict(data))\n",
    "        \n",
    "        actual1_pred1 = actual_values[(actual_values['estado'] == 1) \\\n",
    "                                      & (actual_values['predict'] > threshold)].shape[0]\n",
    "        actual0_pred0 = actual_values[(actual_values['estado'] == 0)\\\n",
    "                                      & (actual_values['predict'] < threshold)].shape[0] \n",
    "        actual1_pred0 =  actual_values[(actual_values['estado'] == 1)\\\n",
    "                                      & (actual_values['predict'] < threshold)].shape[0]\n",
    "        actual0_pred1 =  actual_values[(actual_values['estado'] == 0)\\\n",
    "                                      & (actual_values['predict'] > threshold)].shape[0]        \n",
    "         \n",
    "\n",
    "        return actual1_pred1, actual0_pred0, actual1_pred0, actual0_pred1\n",
    "\n",
    "def CuentaActualPredPyspark(test_results):\n",
    "    \n",
    "    actual1_pred1 = test_results.filter((test_results['estado']==test_results['prediction']) & (test_results['estado']==1)).count()\n",
    "    actual0_pred0 = test_results.filter((test_results['estado']==test_results['prediction']) & (test_results['estado']==0)).count()\n",
    "    actual1_pred0 = test_results.filter((test_results['estado']!=test_results['prediction']) & (test_results['estado']==1)).count()\n",
    "    actual0_pred1 = test_results.filter((test_results['estado']!=test_results['prediction']) & (test_results['estado']==0)).count()\n",
    "\n",
    "    return actual1_pred1, actual0_pred0, actual1_pred0, actual0_pred1\n",
    "\n",
    "def GenerarConfusionMatrix(actual1_pred1, actual0_pred0, actual1_pred0, actual0_pred1):\n",
    "    \n",
    "        cm_df = pd.DataFrame([[actual0_pred0, actual0_pred1], [actual1_pred0, actual1_pred1]])\n",
    "        cm_df.columns = ['Predicted 0:', 'Predicted 1:']\n",
    "        cm_df = cm_df.rename(index = {0: 'Actual 0:', 1: 'Actual 1'})\n",
    "        accuracy = (actual0_pred0+actual1_pred1)/cm_df.sum().sum()\n",
    "        \n",
    "        \n",
    "        print(cm_df, \"\\n\")\n",
    "        print(\"Accuracy: {} %\".format(accuracy * 100), '\\n')\n",
    "        return actual0_pred0/(actual0_pred0+actual0_pred1), actual1_pred1/(actual1_pred1+actual1_pred0) #pred_values\n"
   ]
  },
  {
   "cell_type": "markdown",
   "metadata": {},
   "source": [
    "# Testeo"
   ]
  },
  {
   "cell_type": "markdown",
   "metadata": {},
   "source": [
    "### Regresión Logísitca"
   ]
  },
  {
   "cell_type": "code",
   "execution_count": 22,
   "metadata": {},
   "outputs": [
    {
     "name": "stdout",
     "output_type": "stream",
     "text": [
      "Warning: Maximum number of iterations has been exceeded.\n",
      "         Current function value: 0.677503\n",
      "         Iterations: 35\n",
      "           Predicted 0:  Predicted 1:\n",
      "Actual 0:          3365          4270\n",
      "Actual 1           1674          5950 \n",
      "\n",
      "Accuracy: 61.04594010092404 % \n",
      "\n",
      "No se fuga:  0.4407334643091028 % aciertos.\n",
      "Se fuga:  0.7804302203567681 % aciertos,\n"
     ]
    },
    {
     "name": "stderr",
     "output_type": "stream",
     "text": [
      "/home/dran/anaconda3/lib/python3.7/site-packages/statsmodels/base/model.py:512: ConvergenceWarning: Maximum Likelihood optimization failed to converge. Check mle_retvals\n",
      "  \"Check mle_retvals\", ConvergenceWarning)\n"
     ]
    }
   ],
   "source": [
    "Features_columns = ['deuda_vigente', 'deuda_directa_morosa90',\n",
    "           'deuda_directa_vencida', 'deuda_directa_mora180',\n",
    "           'deuda_indirecta_mora180', 'deuda_indirecta_vigente',\n",
    "           'deuda_indirecta_vencida', 'deuda_directa_comercial',\n",
    "           'deuda_directa_cred_consumo', 'deuda_directa_hipotecaria',\n",
    "           'deuda_directa_comercial_ext', 'deuda_directa_leasing', 'deuda_morosa_leasing',\n",
    "           'monto_lineas_cred_disp']\n",
    "\n",
    "# Features_columns = [ \n",
    "#            'deuda_directa_vencida', 'deuda_directa_mora180', 'deuda_indirecta_vigente',\n",
    "#            'deuda_directa_cred_consumo',\n",
    "#            'monto_lineas_cred_disp']\n",
    "\n",
    "x_train1, x_test1, y_train, y_test = FeatureSelection(df_feat_targ, N_fugas, 0.2, Features_columns)\n",
    "\n",
    "results, x_test, y_test = RegresionLogistica(x_train1, x_test1, y_train, y_test)\n",
    "\n",
    "actual1_pred1, actual0_pred0, actual1_pred0, actual0_pred1 = CuentaActualPred(x_test,y_test,results)\n",
    "\n",
    "aciertos_0, aciertos_1 = GenerarConfusionMatrix(actual1_pred1, actual0_pred0, actual1_pred0, actual0_pred1)\n",
    "\n",
    "print(\"No se fuga: \",aciertos_0,\"% aciertos.\" )\n",
    "print(\"Se fuga: \",aciertos_1,\"% aciertos,\")"
   ]
  },
  {
   "cell_type": "markdown",
   "metadata": {},
   "source": [
    "#### Ventana 1 mes (fuga real); 56.89 % acc\n",
    "#### Ventana 3 meses teniendo en cuenta el mes de fuga real: 56.83 % acc\n",
    "#### Ventana 3 meses SIN tener en cuenta el mes de fuga real: 61.05 % acc\n",
    "\n"
   ]
  },
  {
   "cell_type": "code",
   "execution_count": 140,
   "metadata": {},
   "outputs": [
    {
     "data": {
      "text/html": [
       "<table class=\"simpletable\">\n",
       "<caption>Logit Regression Results</caption>\n",
       "<tr>\n",
       "  <th>Dep. Variable:</th>        <td>estado</td>      <th>  No. Observations:  </th>  <td> 98897</td> \n",
       "</tr>\n",
       "<tr>\n",
       "  <th>Model:</th>                 <td>Logit</td>      <th>  Df Residuals:      </th>  <td> 98891</td> \n",
       "</tr>\n",
       "<tr>\n",
       "  <th>Method:</th>                 <td>MLE</td>       <th>  Df Model:          </th>  <td>     5</td> \n",
       "</tr>\n",
       "<tr>\n",
       "  <th>Date:</th>            <td>Fri, 25 Oct 2019</td> <th>  Pseudo R-squ.:     </th>  <td>0.01279</td>\n",
       "</tr>\n",
       "<tr>\n",
       "  <th>Time:</th>                <td>15:58:46</td>     <th>  Log-Likelihood:    </th> <td> -67673.</td>\n",
       "</tr>\n",
       "<tr>\n",
       "  <th>converged:</th>             <td>True</td>       <th>  LL-Null:           </th> <td> -68550.</td>\n",
       "</tr>\n",
       "<tr>\n",
       "  <th>Covariance Type:</th>     <td>nonrobust</td>    <th>  LLR p-value:       </th>  <td> 0.000</td> \n",
       "</tr>\n",
       "</table>\n",
       "<table class=\"simpletable\">\n",
       "<tr>\n",
       "               <td></td>                 <th>coef</th>     <th>std err</th>      <th>z</th>      <th>P>|z|</th>  <th>[0.025</th>    <th>0.975]</th>  \n",
       "</tr>\n",
       "<tr>\n",
       "  <th>const</th>                      <td>    0.0908</td> <td>    0.007</td> <td>   12.246</td> <td> 0.000</td> <td>    0.076</td> <td>    0.105</td>\n",
       "</tr>\n",
       "<tr>\n",
       "  <th>deuda_directa_vencida</th>      <td>    0.0003</td> <td> 1.83e-05</td> <td>   15.105</td> <td> 0.000</td> <td>    0.000</td> <td>    0.000</td>\n",
       "</tr>\n",
       "<tr>\n",
       "  <th>deuda_directa_mora180</th>      <td> 2.641e-05</td> <td> 2.47e-06</td> <td>   10.703</td> <td> 0.000</td> <td> 2.16e-05</td> <td> 3.12e-05</td>\n",
       "</tr>\n",
       "<tr>\n",
       "  <th>deuda_indirecta_vigente</th>    <td> 1.515e-06</td> <td>  2.3e-07</td> <td>    6.582</td> <td> 0.000</td> <td> 1.06e-06</td> <td> 1.97e-06</td>\n",
       "</tr>\n",
       "<tr>\n",
       "  <th>deuda_directa_cred_consumo</th> <td>-1.301e-05</td> <td> 7.45e-07</td> <td>  -17.468</td> <td> 0.000</td> <td>-1.45e-05</td> <td>-1.15e-05</td>\n",
       "</tr>\n",
       "<tr>\n",
       "  <th>monto_lineas_cred_disp</th>     <td>-1.439e-05</td> <td> 7.17e-07</td> <td>  -20.062</td> <td> 0.000</td> <td>-1.58e-05</td> <td> -1.3e-05</td>\n",
       "</tr>\n",
       "</table>"
      ],
      "text/plain": [
       "<class 'statsmodels.iolib.summary.Summary'>\n",
       "\"\"\"\n",
       "                           Logit Regression Results                           \n",
       "==============================================================================\n",
       "Dep. Variable:                 estado   No. Observations:                98897\n",
       "Model:                          Logit   Df Residuals:                    98891\n",
       "Method:                           MLE   Df Model:                            5\n",
       "Date:                Fri, 25 Oct 2019   Pseudo R-squ.:                 0.01279\n",
       "Time:                        15:58:46   Log-Likelihood:                -67673.\n",
       "converged:                       True   LL-Null:                       -68550.\n",
       "Covariance Type:            nonrobust   LLR p-value:                     0.000\n",
       "==============================================================================================\n",
       "                                 coef    std err          z      P>|z|      [0.025      0.975]\n",
       "----------------------------------------------------------------------------------------------\n",
       "const                          0.0908      0.007     12.246      0.000       0.076       0.105\n",
       "deuda_directa_vencida          0.0003   1.83e-05     15.105      0.000       0.000       0.000\n",
       "deuda_directa_mora180       2.641e-05   2.47e-06     10.703      0.000    2.16e-05    3.12e-05\n",
       "deuda_indirecta_vigente     1.515e-06    2.3e-07      6.582      0.000    1.06e-06    1.97e-06\n",
       "deuda_directa_cred_consumo -1.301e-05   7.45e-07    -17.468      0.000   -1.45e-05   -1.15e-05\n",
       "monto_lineas_cred_disp     -1.439e-05   7.17e-07    -20.062      0.000   -1.58e-05    -1.3e-05\n",
       "==============================================================================================\n",
       "\"\"\""
      ]
     },
     "execution_count": 140,
     "metadata": {},
     "output_type": "execute_result"
    }
   ],
   "source": [
    "results.summary()"
   ]
  },
  {
   "cell_type": "markdown",
   "metadata": {},
   "source": [
    "### Decision Tree"
   ]
  },
  {
   "cell_type": "code",
   "execution_count": 25,
   "metadata": {},
   "outputs": [
    {
     "name": "stdout",
     "output_type": "stream",
     "text": [
      "           Predicted 0:  Predicted 1:\n",
      "Actual 0:          6783           811\n",
      "Actual 1           2682          4922 \n",
      "\n",
      "Accuracy: 77.0167127253586 % \n",
      "\n",
      "No se fuga:  0.8932051619699763 % aciertos.\n",
      "Se fuga:  0.6472908995265649 % aciertos,\n"
     ]
    }
   ],
   "source": [
    "Features_columns = ['deuda_vigente', 'deuda_directa_morosa90',\n",
    "           'deuda_directa_vencida', 'deuda_directa_mora180',\n",
    "           'deuda_indirecta_mora180', 'deuda_indirecta_vigente',\n",
    "           'deuda_indirecta_vencida', 'deuda_directa_comercial',\n",
    "           'deuda_directa_cred_consumo', 'deuda_directa_hipotecaria',\n",
    "           'deuda_directa_comercial_ext', 'deuda_directa_leasing', 'deuda_morosa_leasing',\n",
    "           'monto_lineas_cred_disp']\n",
    "\n",
    "# Features_columns = [ \n",
    "#            'deuda_directa_vencida', 'deuda_directa_mora180', 'deuda_indirecta_vigente',\n",
    "#            'deuda_directa_cred_consumo',\n",
    "#            'monto_lineas_cred_disp']\n",
    "\n",
    "train_df, test_df = FeatureSelectionPyspark(df_feat_targ, N_fugas, 0.2, Features_columns)\n",
    "dtc_model = DecisionTree(train_df)\n",
    "test_results = dtc_model.transform(test_df).select(['estado','prediction'])\n",
    "\n",
    "actual1_pred1, actual0_pred0, actual1_pred0, actual0_pred1 = CuentaActualPredPyspark(test_results)\n",
    "\n",
    "aciertos_0, aciertos_1 = GenerarConfusionMatrix(actual1_pred1, actual0_pred0, actual1_pred0, actual0_pred1)\n",
    "\n",
    "print(\"No se fuga: \",aciertos_0,\"% aciertos.\" )\n",
    "print(\"Se fuga: \",aciertos_1,\"% aciertos,\")"
   ]
  },
  {
   "cell_type": "markdown",
   "metadata": {},
   "source": [
    "#### Ventana 1 mes (fuga real);  65.9% acc\n",
    "#### Ventana 3 meses teniendo en cuenta el mes de fuga real: 71.6 % acc\n",
    "#### Ventana 3 meses SIN tener en cuenta el mes de fuga real: 77.02 % acc\n"
   ]
  },
  {
   "cell_type": "markdown",
   "metadata": {},
   "source": [
    "### Random Forest"
   ]
  },
  {
   "cell_type": "code",
   "execution_count": 73,
   "metadata": {},
   "outputs": [],
   "source": [
    "import numpy as np\n",
    "import matplotlib.pyplot as plt\n",
    "\n",
    "def PlotAccuracy(train, test):\n",
    "\n",
    "    trees = np.linspace(1,200,20)\n",
    "    accu = []\n",
    "\n",
    "    for n in trees:\n",
    "\n",
    "        rfc_model = RandomForest(train, int(n))\n",
    "        test_results = rfc_model.transform(test).select(['estado','prediction'])\n",
    "\n",
    "        actual1_pred1, actual0_pred0, actual1_pred0, actual0_pred1 = CuentaActualPredPyspark(test_results)\n",
    "        accu.append( (actual1_pred1 + actual0_pred0)/( actual1_pred1 + actual0_pred0 + actual1_pred0 + actual0_pred1 ) )\n",
    "\n",
    "    plt.figure(1)\n",
    "    plt.plot(trees, accu,'o--b')\n",
    "    plt.xlabel(\"N° trees\")\n",
    "    plt.ylabel(\"% Accuracy\")\n",
    "    plt.grid()\n",
    "    plt.ylim(0.6, 1)\n",
    "    "
   ]
  },
  {
   "cell_type": "code",
   "execution_count": 59,
   "metadata": {},
   "outputs": [
    {
     "name": "stdout",
     "output_type": "stream",
     "text": [
      "           Predicted 0:  Predicted 1:\n",
      "Actual 0:          6746           872\n",
      "Actual 1           2677          4975 \n",
      "\n",
      "Accuracy: 76.75834970530452 % \n",
      "\n",
      "No se fuga:  0.8855342609608822 % aciertos.\n",
      "Se fuga:  0.6501568217459488 % aciertos,\n"
     ]
    }
   ],
   "source": [
    "Features_columns = ['deuda_vigente', 'deuda_directa_morosa90',\n",
    "           'deuda_directa_vencida', 'deuda_directa_mora180',\n",
    "           'deuda_indirecta_mora180', 'deuda_indirecta_vigente',\n",
    "           'deuda_indirecta_vencida', 'deuda_directa_comercial',\n",
    "           'deuda_directa_cred_consumo', 'deuda_directa_hipotecaria',\n",
    "           'deuda_directa_comercial_ext', 'deuda_directa_leasing', 'deuda_morosa_leasing',\n",
    "           'monto_lineas_cred_disp']\n",
    "\n",
    "# Features_columns = [ \n",
    "#            'deuda_directa_vencida', 'deuda_directa_mora180', 'deuda_indirecta_vigente',\n",
    "#            'deuda_directa_cred_consumo',\n",
    "#            'monto_lineas_cred_disp']\n",
    "\n",
    "train_df, test_df = FeatureSelectionPyspark(df_feat_targ, N_fugas, 0.2, Features_columns)\n",
    "rfc_model = RandomForest(train_df, 1)\n",
    "test_results = rfc_model.transform(test_df).select(['estado','prediction'])\n",
    "\n",
    "actual1_pred1, actual0_pred0, actual1_pred0, actual0_pred1 = CuentaActualPredPyspark(test_results)\n",
    "\n",
    "aciertos_0, aciertos_1 = GenerarConfusionMatrix(actual1_pred1, actual0_pred0, actual1_pred0, actual0_pred1)\n",
    "\n",
    "print(\"No se fuga: \",aciertos_0,\"% aciertos.\" )\n",
    "print(\"Se fuga: \",aciertos_1,\"% aciertos,\")"
   ]
  },
  {
   "cell_type": "code",
   "execution_count": 74,
   "metadata": {},
   "outputs": [
    {
     "data": {
      "image/png": "[encoded data removed]",
      "text/plain": [
       "<Figure size 432x288 with 1 Axes>"
      ]
     },
     "metadata": {
      "needs_background": "light"
     },
     "output_type": "display_data"
    }
   ],
   "source": [
    "PlotAccuracy(train_df, test_df)"
   ]
  },
  {
   "cell_type": "markdown",
   "metadata": {},
   "source": [
    "## ------------------------------------------------------------------------------------------------"
   ]
  },
  {
   "cell_type": "markdown",
   "metadata": {},
   "source": [
    "## ------------------------------------------------------------------------------------------------"
   ]
  }
 ],
 "metadata": {
  "kernelspec": {
   "display_name": "Python 3",
   "language": "python",
   "name": "python3"
  },
  "language_info": {
   "codemirror_mode": {
    "name": "ipython",
    "version": 3
   },
   "file_extension": ".py",
   "mimetype": "text/x-python",
   "name": "python",
   "nbconvert_exporter": "python",
   "pygments_lexer": "ipython3",
   "version": "3.7.3"
  }
 },
 "nbformat": 4,
 "nbformat_minor": 2
}
