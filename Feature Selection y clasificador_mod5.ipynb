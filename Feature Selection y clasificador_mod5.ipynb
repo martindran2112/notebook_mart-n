{
 "cells": [
  {
   "cell_type": "code",
   "execution_count": 1,
   "metadata": {},
   "outputs": [],
   "source": [
    "from pyspark.sql import SparkSession\n",
    "import pandas as pd\n",
    "import numpy as np\n",
    "from sklearn.model_selection import train_test_split\n",
    "import statsmodels.api as sm\n",
    "from sklearn.preprocessing import StandardScaler"
   ]
  },
  {
   "cell_type": "code",
   "execution_count": 2,
   "metadata": {},
   "outputs": [],
   "source": [
    "spark = SparkSession.builder.appName(\"Feature_Selection_Logit\").getOrCreate()"
   ]
  },
  {
   "cell_type": "code",
   "execution_count": 178,
   "metadata": {},
   "outputs": [],
   "source": [
    "#df_feat_targ = spark.read.csv('dataFrame target and features(fuga).csv/', header = True, inferSchema = True)\n",
    "#df_feat_targ = spark.read.csv('dataFrame target and features(fuga 3 meses antes).csv/', header = True, inferSchema = True)\n",
    "df_feat_targ = spark.read.csv('dataFrame target and features(fuga 3 meses antes no-current).csv/', header = True, inferSchema = True)\n",
    "\n"
   ]
  },
  {
   "cell_type": "code",
   "execution_count": 133,
   "metadata": {},
   "outputs": [
    {
     "data": {
      "text/plain": [
       "6897273"
      ]
     },
     "execution_count": 133,
     "metadata": {},
     "output_type": "execute_result"
    }
   ],
   "source": [
    "df_feat_targ.count()"
   ]
  },
  {
   "cell_type": "markdown",
   "metadata": {},
   "source": [
    "### Feature Selection 1: "
   ]
  },
  {
   "cell_type": "code",
   "execution_count": 179,
   "metadata": {},
   "outputs": [],
   "source": [
    "N_fugas = df_feat_targ.filter(\"estado = 1\").count()"
   ]
  },
  {
   "cell_type": "code",
   "execution_count": 180,
   "metadata": {},
   "outputs": [
    {
     "data": {
      "text/plain": [
       "38146"
      ]
     },
     "execution_count": 180,
     "metadata": {},
     "output_type": "execute_result"
    }
   ],
   "source": [
    "N_fugas"
   ]
  },
  {
   "cell_type": "code",
   "execution_count": 181,
   "metadata": {},
   "outputs": [],
   "source": [
    "def Feature_selection(df_spark, N_0, test_size):\n",
    "\n",
    "        \n",
    "    df_fts_select1 = df_spark.filter(\"estado = 1\").union(df_spark.filter(\"estado = 0\").limit(N_0))\n",
    "    df_fts_targ_pd = df_fts_select1.toPandas()\n",
    "\n",
    "    train_data, test_data = train_test_split(df_fts_targ_pd, test_size = test_size, random_state = 1)\n",
    "\n",
    "    features_columns = ['deuda_vigente', 'deuda_directa_morosa90',\n",
    "           'deuda_directa_vencida', 'deuda_directa_mora180',\n",
    "           'deuda_indirecta_mora180', 'deuda_indirecta_vigente',\n",
    "           'deuda_indirecta_vencida', 'deuda_directa_comercial',\n",
    "           'deuda_directa_cred_consumo', 'deuda_directa_hipotecaria',\n",
    "           'deuda_directa_comercial_ext', 'deuda_directa_leasing', 'deuda_morosa_leasing',\n",
    "           'monto_lineas_cred_disp']\n",
    "\n",
    "#     features_columns = [ \n",
    "#            'deuda_directa_vencida', 'deuda_directa_mora180', 'deuda_indirecta_vigente',\n",
    "#            'deuda_directa_cred_consumo',\n",
    "#            'monto_lineas_cred_disp']\n",
    "\n",
    "    # features_columns = [ \n",
    "    #        'deuda_directa_cred_consumo',\n",
    "    #        'monto_lineas_cred_disp']\n",
    "\n",
    "\n",
    "    y_train  = train_data[['estado']]\n",
    "    y_test = test_data[['estado']]\n",
    "    x_train1 = train_data[features_columns]\n",
    "    x_test1 = test_data[features_columns]\n",
    "    \n",
    "    return x_train1, x_test1, y_train, y_test"
   ]
  },
  {
   "cell_type": "markdown",
   "metadata": {},
   "source": [
    "#### Quité las columnas \"deuda_directa_inversiones_financieras\", \"deuda_directa_ops_pacto\" y \"deuda_indirecta_comercial_ext\" porque tienen sólo valores nulos."
   ]
  },
  {
   "cell_type": "markdown",
   "metadata": {},
   "source": [
    "### Regression"
   ]
  },
  {
   "cell_type": "code",
   "execution_count": 182,
   "metadata": {},
   "outputs": [],
   "source": [
    "def Regresion_logistica(x_train1, x_test1, y_train, y_test):\n",
    "    x_train = sm.add_constant(x_train1)\n",
    "    x_test = sm.add_constant(x_test1)\n",
    "\n",
    "    reg_log = sm.Logit(y_train,x_train)\n",
    "    results_log = reg_log.fit()\n",
    "    return results_log, x_test, y_test#.summary()"
   ]
  },
  {
   "cell_type": "markdown",
   "metadata": {},
   "source": [
    "#### P-values: útiles para conocer qué variables tienen importancia estadística. Si p < 0.05, la variable es importante para el modelo."
   ]
  },
  {
   "cell_type": "markdown",
   "metadata": {},
   "source": [
    "### Matriz de Confusión"
   ]
  },
  {
   "cell_type": "code",
   "execution_count": 183,
   "metadata": {},
   "outputs": [],
   "source": [
    "def confusion_matrix(data, actual_values, model, threshold = 0.5):\n",
    "    \n",
    "        pred_values = list(model.predict(data))\n",
    "        actual_values_list = list(actual_values['estado'])\n",
    "        \n",
    "        for i, pred in enumerate(pred_values):\n",
    "            \n",
    "            if pred < threshold:\n",
    "                pred_values[i] = 0\n",
    "            else:\n",
    "                pred_values[i] = 1\n",
    "\n",
    "        actual0_pred0 = 0\n",
    "        actual1_pred0 = 0\n",
    "        actual0_pred1 = 0\n",
    "        actual1_pred1 = 0\n",
    "        \n",
    "        for actual, pred in zip(actual_values_list, pred_values):\n",
    "            \n",
    "            if actual==pred:\n",
    "                if actual == 1:\n",
    "                    actual1_pred1 +=1\n",
    "                else:\n",
    "                    actual0_pred0 += 1\n",
    "                    \n",
    "            if actual != pred:\n",
    "                if actual == 1:\n",
    "                    actual1_pred0 += 1\n",
    "                if actual == 0:\n",
    "                    actual0_pred1 += 1\n",
    "                \n",
    "        cm_df = pd.DataFrame([[actual0_pred0, actual0_pred1], [actual1_pred0, actual1_pred1]])\n",
    "        cm_df.columns = ['Predicted 0:', 'Predicted 1:']\n",
    "        cm_df = cm_df.rename(index = {0: 'Actual 0:', 1: 'Actual 1'})\n",
    "        accuracy = (actual0_pred0+actual1_pred1)/cm_df.sum().sum()\n",
    "        \n",
    "        \n",
    "        print(cm_df, \"\\n\")\n",
    "        print(\"Accuracy: {} %\".format(accuracy * 100), '\\n')\n",
    "        return actual0_pred0/(actual0_pred0+actual0_pred1), actual1_pred1/(actual1_pred1+actual1_pred0) #pred_values"
   ]
  },
  {
   "cell_type": "markdown",
   "metadata": {},
   "source": [
    "### Testeo"
   ]
  },
  {
   "cell_type": "code",
   "execution_count": 184,
   "metadata": {},
   "outputs": [
    {
     "name": "stdout",
     "output_type": "stream",
     "text": [
      "Warning: Maximum number of iterations has been exceeded.\n",
      "         Current function value: 0.677503\n",
      "         Iterations: 35\n",
      "           Predicted 0:  Predicted 1:\n",
      "Actual 0:          3365          4270\n",
      "Actual 1           1674          5950 \n",
      "\n",
      "Accuracy: 61.04594010092404 % \n",
      "\n",
      "No se fuga:  0.4407334643091028 % aciertos.\n",
      "Se fuga:  0.7804302203567681 % aciertos,\n"
     ]
    },
    {
     "name": "stderr",
     "output_type": "stream",
     "text": [
      "/home/dran/anaconda3/lib/python3.7/site-packages/statsmodels/base/model.py:512: ConvergenceWarning: Maximum Likelihood optimization failed to converge. Check mle_retvals\n",
      "  \"Check mle_retvals\", ConvergenceWarning)\n"
     ]
    }
   ],
   "source": [
    "x_train1, x_test1, y_train, y_test = Feature_selection(df_feat_targ, N_fugas, 0.2)\n",
    "\n",
    "# scaler = StandardScaler()\n",
    "# scaler.fit(x_train1)\n",
    "\n",
    "# x_train1_scaled = scaler.transform(x_train1)\n",
    "# x_test1_scaled = scaler.transform(x_test1)\n",
    "\n",
    "results, x_test, y_test = Regresion_logistica(x_train1, x_test1, y_train, y_test)\n",
    "aciertos_0, aciertos_1 = confusion_matrix(x_test,y_test,results)\n",
    "\n",
    "print(\"No se fuga: \",aciertos_0,\"% aciertos.\" )\n",
    "print(\"Se fuga: \",aciertos_1,\"% aciertos,\")"
   ]
  },
  {
   "cell_type": "markdown",
   "metadata": {},
   "source": [
    "#### Ventana 1 mes (fuga real); 56.89 % acc\n",
    "#### Ventana 3 meses teniendo en cuenta el mes de fuga real: 56.83 % acc\n",
    "#### Ventana 3 meses SIN tener en cuenta el mes de fuga real: 61.05 % acc\n",
    "\n"
   ]
  },
  {
   "cell_type": "code",
   "execution_count": 140,
   "metadata": {},
   "outputs": [
    {
     "data": {
      "text/html": [
       "<table class=\"simpletable\">\n",
       "<caption>Logit Regression Results</caption>\n",
       "<tr>\n",
       "  <th>Dep. Variable:</th>        <td>estado</td>      <th>  No. Observations:  </th>  <td> 98897</td> \n",
       "</tr>\n",
       "<tr>\n",
       "  <th>Model:</th>                 <td>Logit</td>      <th>  Df Residuals:      </th>  <td> 98891</td> \n",
       "</tr>\n",
       "<tr>\n",
       "  <th>Method:</th>                 <td>MLE</td>       <th>  Df Model:          </th>  <td>     5</td> \n",
       "</tr>\n",
       "<tr>\n",
       "  <th>Date:</th>            <td>Fri, 25 Oct 2019</td> <th>  Pseudo R-squ.:     </th>  <td>0.01279</td>\n",
       "</tr>\n",
       "<tr>\n",
       "  <th>Time:</th>                <td>15:58:46</td>     <th>  Log-Likelihood:    </th> <td> -67673.</td>\n",
       "</tr>\n",
       "<tr>\n",
       "  <th>converged:</th>             <td>True</td>       <th>  LL-Null:           </th> <td> -68550.</td>\n",
       "</tr>\n",
       "<tr>\n",
       "  <th>Covariance Type:</th>     <td>nonrobust</td>    <th>  LLR p-value:       </th>  <td> 0.000</td> \n",
       "</tr>\n",
       "</table>\n",
       "<table class=\"simpletable\">\n",
       "<tr>\n",
       "               <td></td>                 <th>coef</th>     <th>std err</th>      <th>z</th>      <th>P>|z|</th>  <th>[0.025</th>    <th>0.975]</th>  \n",
       "</tr>\n",
       "<tr>\n",
       "  <th>const</th>                      <td>    0.0908</td> <td>    0.007</td> <td>   12.246</td> <td> 0.000</td> <td>    0.076</td> <td>    0.105</td>\n",
       "</tr>\n",
       "<tr>\n",
       "  <th>deuda_directa_vencida</th>      <td>    0.0003</td> <td> 1.83e-05</td> <td>   15.105</td> <td> 0.000</td> <td>    0.000</td> <td>    0.000</td>\n",
       "</tr>\n",
       "<tr>\n",
       "  <th>deuda_directa_mora180</th>      <td> 2.641e-05</td> <td> 2.47e-06</td> <td>   10.703</td> <td> 0.000</td> <td> 2.16e-05</td> <td> 3.12e-05</td>\n",
       "</tr>\n",
       "<tr>\n",
       "  <th>deuda_indirecta_vigente</th>    <td> 1.515e-06</td> <td>  2.3e-07</td> <td>    6.582</td> <td> 0.000</td> <td> 1.06e-06</td> <td> 1.97e-06</td>\n",
       "</tr>\n",
       "<tr>\n",
       "  <th>deuda_directa_cred_consumo</th> <td>-1.301e-05</td> <td> 7.45e-07</td> <td>  -17.468</td> <td> 0.000</td> <td>-1.45e-05</td> <td>-1.15e-05</td>\n",
       "</tr>\n",
       "<tr>\n",
       "  <th>monto_lineas_cred_disp</th>     <td>-1.439e-05</td> <td> 7.17e-07</td> <td>  -20.062</td> <td> 0.000</td> <td>-1.58e-05</td> <td> -1.3e-05</td>\n",
       "</tr>\n",
       "</table>"
      ],
      "text/plain": [
       "<class 'statsmodels.iolib.summary.Summary'>\n",
       "\"\"\"\n",
       "                           Logit Regression Results                           \n",
       "==============================================================================\n",
       "Dep. Variable:                 estado   No. Observations:                98897\n",
       "Model:                          Logit   Df Residuals:                    98891\n",
       "Method:                           MLE   Df Model:                            5\n",
       "Date:                Fri, 25 Oct 2019   Pseudo R-squ.:                 0.01279\n",
       "Time:                        15:58:46   Log-Likelihood:                -67673.\n",
       "converged:                       True   LL-Null:                       -68550.\n",
       "Covariance Type:            nonrobust   LLR p-value:                     0.000\n",
       "==============================================================================================\n",
       "                                 coef    std err          z      P>|z|      [0.025      0.975]\n",
       "----------------------------------------------------------------------------------------------\n",
       "const                          0.0908      0.007     12.246      0.000       0.076       0.105\n",
       "deuda_directa_vencida          0.0003   1.83e-05     15.105      0.000       0.000       0.000\n",
       "deuda_directa_mora180       2.641e-05   2.47e-06     10.703      0.000    2.16e-05    3.12e-05\n",
       "deuda_indirecta_vigente     1.515e-06    2.3e-07      6.582      0.000    1.06e-06    1.97e-06\n",
       "deuda_directa_cred_consumo -1.301e-05   7.45e-07    -17.468      0.000   -1.45e-05   -1.15e-05\n",
       "monto_lineas_cred_disp     -1.439e-05   7.17e-07    -20.062      0.000   -1.58e-05    -1.3e-05\n",
       "==============================================================================================\n",
       "\"\"\""
      ]
     },
     "execution_count": 140,
     "metadata": {},
     "output_type": "execute_result"
    }
   ],
   "source": [
    "results.summary()"
   ]
  },
  {
   "cell_type": "markdown",
   "metadata": {},
   "source": [
    "## ------------------------------------------------------------------------------------------------"
   ]
  },
  {
   "cell_type": "markdown",
   "metadata": {},
   "source": [
    "## ------------------------------------------------------------------------------------------------"
   ]
  }
 ],
 "metadata": {
  "kernelspec": {
   "display_name": "Python 3",
   "language": "python",
   "name": "python3"
  },
  "language_info": {
   "codemirror_mode": {
    "name": "ipython",
    "version": 3
   },
   "file_extension": ".py",
   "mimetype": "text/x-python",
   "name": "python",
   "nbconvert_exporter": "python",
   "pygments_lexer": "ipython3",
   "version": "3.7.3"
  }
 },
 "nbformat": 4,
 "nbformat_minor": 2
}
