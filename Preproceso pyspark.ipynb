{
 "cells": [
  {
   "cell_type": "code",
   "execution_count": 1,
   "metadata": {},
   "outputs": [],
   "source": [
    "from pyspark.sql import SparkSession\n",
    "from pyspark.sql.functions import lead\n",
    "from pyspark.sql.types import LongType\n",
    "\n",
    "#from pyspark import SparkContext"
   ]
  },
  {
   "cell_type": "code",
   "execution_count": 2,
   "metadata": {},
   "outputs": [],
   "source": [
    "spark = SparkSession.builder.appName(\"Preprocessing\").getOrCreate()"
   ]
  },
  {
   "cell_type": "code",
   "execution_count": 31,
   "metadata": {},
   "outputs": [],
   "source": [
    "raw_data_act = spark.read.parquet('activityObf.parquet')\n"
   ]
  },
  {
   "cell_type": "code",
   "execution_count": null,
   "metadata": {},
   "outputs": [],
   "source": [
    "raw_data_act_int = raw_data_act.withColumn('user_id', raw_data_act['user_id'].cast(LongType()))"
   ]
  },
  {
   "cell_type": "code",
   "execution_count": null,
   "metadata": {},
   "outputs": [],
   "source": [
    "df_act_wo_duplicates = raw_data_act_int.dropDuplicates()"
   ]
  },
  {
   "cell_type": "code",
   "execution_count": null,
   "metadata": {
    "scrolled": true
   },
   "outputs": [],
   "source": [
    "#df_act_wo_duplicates.write.csv(\"act_wo_duplicates.csv\", header = True)"
   ]
  },
  {
   "cell_type": "code",
   "execution_count": 3,
   "metadata": {},
   "outputs": [],
   "source": [
    "df_act_wo_duplicates = spark.read.csv(\"act_wo_duplicates.csv/\", header = True, inferSchema = True)\n"
   ]
  },
  {
   "cell_type": "code",
   "execution_count": 4,
   "metadata": {},
   "outputs": [],
   "source": [
    "#df_act_ordered = df_act_wo_duplicates.orderBy(['user_id', 'periodo'])"
   ]
  },
  {
   "cell_type": "code",
   "execution_count": 4,
   "metadata": {
    "scrolled": true
   },
   "outputs": [],
   "source": [
    "from pyspark.sql import Window\n",
    "\n",
    "w = Window.orderBy(['user_id','periodo']) ## --> esto ordena por user_id y periodo\n",
    "\n",
    "# df_act_orderer_w_lead = df_act_ordered.withColumn(\"next_periodo\", lead(df_act_ordered.periodo).over(w))\\\n",
    "#             .withColumn(\"next_user_id\", lead(df_act_ordered.user_id).over(w))\n",
    "\n",
    "df_act_orderer_w_lead = df_act_wo_duplicates.withColumn(\"next_periodo\", lead(df_act_wo_duplicates.periodo).over(w))\\\n",
    "            .withColumn(\"next_user_id\", lead(df_act_wo_duplicates.user_id).over(w))"
   ]
  },
  {
   "cell_type": "code",
   "execution_count": 41,
   "metadata": {},
   "outputs": [
    {
     "data": {
      "text/plain": [
       "91371067"
      ]
     },
     "execution_count": 41,
     "metadata": {},
     "output_type": "execute_result"
    }
   ],
   "source": [
    "## Para merge de df's de act. y sb, ver --> https://stackoverflow.com/questions/38063657/pyspark-merge-outer-join-two-data-frames"
   ]
  },
  {
   "cell_type": "code",
   "execution_count": 5,
   "metadata": {},
   "outputs": [],
   "source": [
    "from pyspark.sql.types import IntegerType\n",
    "from pyspark.sql.functions import (month, year)\n",
    "from pyspark.sql.functions import udf, from_unixtime, unix_timestamp\n",
    "\n",
    "def estado_actividad(u_id, nxt_u_id, per, nxt_per):\n",
    "    \n",
    "    #def month_diff(x,y):\n",
    "        \n",
    "    #    return 12*(year(y)[0] - year(x)[0]) + (month(y)[0] - month(x)[0])\n",
    "    \n",
    "    if u_id == nxt_u_id and 12*(nxt_per.year - per.year) + (nxt_per.month - per.month) >= 4:#12*(year(nxt_per) - year(per)) + (month(nxt_per) - month(per)) >= 4:\n",
    "        \n",
    "        return 1\n",
    "    else:\n",
    "        return 0\n",
    "    \n"
   ]
  },
  {
   "cell_type": "code",
   "execution_count": 6,
   "metadata": {},
   "outputs": [],
   "source": [
    "define_estados = udf(estado_actividad, IntegerType())    \n",
    "\n",
    "# from_pattern = 'yyyy-MM-dd hh:mm:ss'\n",
    "# to_pattern = 'yyyy-MM-dd'\n",
    "\n",
    "# df_act_orderer_w_lead = df_act_orderer_w_lead.withColumn(\"periodo\", from_unixtime(unix_timestamp(df_act_orderer_w_lead.periodo, \n",
    "#             from_pattern), to_pattern)).withColumn(\"next_periodo\", \n",
    "#             from_unixtime(unix_timestamp(df_act_orderer_w_lead.next_periodo, from_pattern), to_pattern))\n",
    "   "
   ]
  },
  {
   "cell_type": "code",
   "execution_count": 7,
   "metadata": {},
   "outputs": [],
   "source": [
    "df_act_final = df_act_orderer_w_lead.withColumn(\"estado\", define_estados(df_act_orderer_w_lead.user_id,\n",
    "                                                         df_act_orderer_w_lead.next_user_id,\n",
    "                                                         df_act_orderer_w_lead.periodo,\n",
    "                                                         df_act_orderer_w_lead.next_periodo)) "
   ]
  },
  {
   "cell_type": "code",
   "execution_count": 8,
   "metadata": {},
   "outputs": [
    {
     "name": "stdout",
     "output_type": "stream",
     "text": [
      "+-------------+-------------------+-------------------+-------------+------+\n",
      "|      user_id|            periodo|       next_periodo| next_user_id|estado|\n",
      "+-------------+-------------------+-------------------+-------------+------+\n",
      "|3263522195314|2017-07-01 00:00:00|2017-08-01 00:00:00|3263522195314|     0|\n",
      "|3263522195314|2017-08-01 00:00:00|2017-09-01 00:00:00|3263522195314|     0|\n",
      "|3263522195314|2017-09-01 00:00:00|2017-10-01 00:00:00|3263522195314|     0|\n",
      "|3263522195314|2017-10-01 00:00:00|2017-11-01 00:00:00|3263522195314|     0|\n",
      "|3263522195314|2017-11-01 00:00:00|2017-12-01 00:00:00|3263522195314|     0|\n",
      "|3263522195314|2017-12-01 00:00:00|2018-01-01 00:00:00|3263522195314|     0|\n",
      "|3263522195314|2018-01-01 00:00:00|2018-02-01 00:00:00|3263522195314|     0|\n",
      "|3263522195314|2018-02-01 00:00:00|2018-03-01 00:00:00|3263522195314|     0|\n",
      "|3263522195314|2018-03-01 00:00:00|2018-04-01 00:00:00|3263522195314|     0|\n",
      "|3263522195314|2018-04-01 00:00:00|2018-05-01 00:00:00|3263522195314|     0|\n",
      "|3263522195314|2018-05-01 00:00:00|2018-06-01 00:00:00|3263522195314|     0|\n",
      "|3263522195314|2018-06-01 00:00:00|2018-07-01 00:00:00|3263522195314|     0|\n",
      "|3263522195314|2018-07-01 00:00:00|2018-08-01 00:00:00|3263522195314|     0|\n",
      "|3263522195314|2018-08-01 00:00:00|2018-09-01 00:00:00|3263522195314|     0|\n",
      "|3263522195314|2018-09-01 00:00:00|2018-10-01 00:00:00|3263522195314|     0|\n",
      "|3263522195314|2018-10-01 00:00:00|2018-11-01 00:00:00|3263522195314|     0|\n",
      "|3263522195314|2018-11-01 00:00:00|2017-12-01 00:00:00|6622623475332|     0|\n",
      "|6622623475332|2017-12-01 00:00:00|2018-01-01 00:00:00|6622623475332|     0|\n",
      "|6622623475332|2018-01-01 00:00:00|2018-02-01 00:00:00|6622623475332|     0|\n",
      "|6622623475332|2018-02-01 00:00:00|2018-03-01 00:00:00|6622623475332|     0|\n",
      "+-------------+-------------------+-------------------+-------------+------+\n",
      "only showing top 20 rows\n",
      "\n"
     ]
    }
   ],
   "source": [
    "df_act_final.show()"
   ]
  },
  {
   "cell_type": "code",
   "execution_count": 18,
   "metadata": {},
   "outputs": [
    {
     "data": {
      "text/plain": [
       "DataFrame[user_id: bigint, periodo: timestamp, next_periodo: timestamp, next_user_id: bigint, estado: int]"
      ]
     },
     "execution_count": 18,
     "metadata": {},
     "output_type": "execute_result"
    }
   ],
   "source": [
    "df_act_final.cache()"
   ]
  },
  {
   "cell_type": "code",
   "execution_count": 20,
   "metadata": {},
   "outputs": [
    {
     "name": "stdout",
     "output_type": "stream",
     "text": [
      "+-------+--------------------+--------------------+--------------------+\n",
      "|summary|             user_id|        next_user_id|              estado|\n",
      "+-------+--------------------+--------------------+--------------------+\n",
      "|  count|            91371067|            91371066|            91371067|\n",
      "|   mean|2.454699089645138...|2.454699116509949...|0.001333365188785636|\n",
      "| stddev| 1.58195864893496E17|1.581958636749278...|  0.0364909213453438|\n",
      "|    min|       3263522195314|       3263522195314|                   0|\n",
      "|    max| 2197891185576109877| 2197891185576109877|                   1|\n",
      "+-------+--------------------+--------------------+--------------------+\n",
      "\n"
     ]
    }
   ],
   "source": [
    "df_act_final.describe().show()"
   ]
  },
  {
   "cell_type": "markdown",
   "metadata": {},
   "source": [
    "#### Dataframe sb"
   ]
  },
  {
   "cell_type": "code",
   "execution_count": 11,
   "metadata": {},
   "outputs": [],
   "source": [
    "df_sb = spark.read.parquet('sbObf.parquet/')"
   ]
  },
  {
   "cell_type": "code",
   "execution_count": 12,
   "metadata": {},
   "outputs": [
    {
     "name": "stdout",
     "output_type": "stream",
     "text": [
      "root\n",
      " |-- fecha_proceso: date (nullable = true)\n",
      " |-- R04PERREF: string (nullable = true)\n",
      " |-- periodo: date (nullable = true)\n",
      " |-- user_id: string (nullable = true)\n",
      " |-- total_deudores_informados: integer (nullable = true)\n",
      " |-- deuda_vigente: long (nullable = true)\n",
      " |-- deuda_directa_morosa90: long (nullable = true)\n",
      " |-- deuda_directa_vencida: long (nullable = true)\n",
      " |-- deuda_directa_mora180: long (nullable = true)\n",
      " |-- deuda_indirecta_mora180: long (nullable = true)\n",
      " |-- deuda_directa_inversiones_financieras: long (nullable = true)\n",
      " |-- deuda_directa_ops_pacto: long (nullable = true)\n",
      " |-- deuda_indirecta_vigente: long (nullable = true)\n",
      " |-- deuda_indirecta_vencida: long (nullable = true)\n",
      " |-- deuda_directa_comercial: long (nullable = true)\n",
      " |-- deuda_directa_cred_consumo: long (nullable = true)\n",
      " |-- deuda_directa_hipotecaria: long (nullable = true)\n",
      " |-- deuda_directa_comercial_ext: long (nullable = true)\n",
      " |-- deuda_indirecta_comercial_ext: long (nullable = true)\n",
      " |-- deuda_directa_leasing: long (nullable = true)\n",
      " |-- deuda_morosa_leasing: long (nullable = true)\n",
      " |-- monto_lineas_cred_disp: long (nullable = true)\n",
      "\n"
     ]
    }
   ],
   "source": [
    "df_sb.printSchema()"
   ]
  },
  {
   "cell_type": "code",
   "execution_count": 14,
   "metadata": {},
   "outputs": [
    {
     "name": "stdout",
     "output_type": "stream",
     "text": [
      "root\n",
      " |-- fecha_proceso: date (nullable = true)\n",
      " |-- R04PERREF: string (nullable = true)\n",
      " |-- periodo: date (nullable = true)\n",
      " |-- user_id: long (nullable = true)\n",
      " |-- total_deudores_informados: integer (nullable = true)\n",
      " |-- deuda_vigente: long (nullable = true)\n",
      " |-- deuda_directa_morosa90: long (nullable = true)\n",
      " |-- deuda_directa_vencida: long (nullable = true)\n",
      " |-- deuda_directa_mora180: long (nullable = true)\n",
      " |-- deuda_indirecta_mora180: long (nullable = true)\n",
      " |-- deuda_directa_inversiones_financieras: long (nullable = true)\n",
      " |-- deuda_directa_ops_pacto: long (nullable = true)\n",
      " |-- deuda_indirecta_vigente: long (nullable = true)\n",
      " |-- deuda_indirecta_vencida: long (nullable = true)\n",
      " |-- deuda_directa_comercial: long (nullable = true)\n",
      " |-- deuda_directa_cred_consumo: long (nullable = true)\n",
      " |-- deuda_directa_hipotecaria: long (nullable = true)\n",
      " |-- deuda_directa_comercial_ext: long (nullable = true)\n",
      " |-- deuda_indirecta_comercial_ext: long (nullable = true)\n",
      " |-- deuda_directa_leasing: long (nullable = true)\n",
      " |-- deuda_morosa_leasing: long (nullable = true)\n",
      " |-- monto_lineas_cred_disp: long (nullable = true)\n",
      "\n"
     ]
    }
   ],
   "source": [
    "df_sb_int = df_sb.withColumn('user_id', df_sb['user_id'].cast(LongType()))\n",
    "df_sb_int.printSchema()"
   ]
  },
  {
   "cell_type": "code",
   "execution_count": 23,
   "metadata": {},
   "outputs": [],
   "source": [
    "df_act_final.write.csv(\"df_act_final.csv\", header = True)"
   ]
  },
  {
   "cell_type": "code",
   "execution_count": 24,
   "metadata": {},
   "outputs": [],
   "source": [
    "df_sb_wo_duplicates = df_sb_int.dropDuplicates()"
   ]
  },
  {
   "cell_type": "code",
   "execution_count": null,
   "metadata": {},
   "outputs": [],
   "source": [
    "df_sb_wo_duplicates.count()"
   ]
  }
 ],
 "metadata": {
  "kernelspec": {
   "display_name": "Python 3",
   "language": "python",
   "name": "python3"
  },
  "language_info": {
   "codemirror_mode": {
    "name": "ipython",
    "version": 3
   },
   "file_extension": ".py",
   "mimetype": "text/x-python",
   "name": "python",
   "nbconvert_exporter": "python",
   "pygments_lexer": "ipython3",
   "version": "3.7.3"
  }
 },
 "nbformat": 4,
 "nbformat_minor": 2
}
